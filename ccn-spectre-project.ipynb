{
 "cells": [
  {
   "cell_type": "raw",
   "id": "2ac0acfa",
   "metadata": {
    "_cell_guid": "b1076dfc-b9ad-4769-8c92-a6c4dae69d19",
    "_uuid": "8f2839f25d086af736a60e9eeb907d3b93b6e0e5",
    "papermill": {
     "duration": 0.007622,
     "end_time": "2024-10-23T21:07:45.566925",
     "exception": false,
     "start_time": "2024-10-23T21:07:45.559303",
     "status": "completed"
    },
    "tags": []
   },
   "source": [
    "# This Python 3 environment comes with many helpful analytics libraries installed\n",
    "# It is defined by the kaggle/python Docker image: https://github.com/kaggle/docker-python\n",
    "# For example, here's several helpful packages to load\n",
    "\n",
    "import numpy as np # linear algebra\n",
    "import pandas as pd # data processing, CSV file I/O (e.g. pd.read_csv)\n",
    "\n",
    "# Input data files are available in the read-only \"../input/\" directory\n",
    "# For example, running this (by clicking run or pressing Shift+Enter) will list all files under the input directory\n",
    "\n",
    "import os\n",
    "for dirname, _, filenames in os.walk('/kaggle/input'):\n",
    "    for filename in filenames:\n",
    "        print(os.path.join(dirname, filename))\n",
    "\n",
    "# You can write up to 20GB to the current directory (/kaggle/working/) that gets preserved as output when you create a version using \"Save & Run All\" \n",
    "# You can also write temporary files to /kaggle/temp/, but they won't be saved outside of the current session"
   ]
  },
  {
   "cell_type": "code",
   "execution_count": null,
   "id": "a224d2d1",
   "metadata": {
    "papermill": {
     "duration": 0.006897,
     "end_time": "2024-10-23T21:07:45.580955",
     "exception": false,
     "start_time": "2024-10-23T21:07:45.574058",
     "status": "completed"
    },
    "tags": []
   },
   "outputs": [],
   "source": []
  },
  {
   "cell_type": "code",
   "execution_count": 1,
   "id": "7369fbc6",
   "metadata": {
    "execution": {
     "iopub.execute_input": "2024-10-23T21:07:45.596385Z",
     "iopub.status.busy": "2024-10-23T21:07:45.595756Z",
     "iopub.status.idle": "2024-10-23T21:08:04.013027Z",
     "shell.execute_reply": "2024-10-23T21:08:04.012100Z"
    },
    "papermill": {
     "duration": 18.427357,
     "end_time": "2024-10-23T21:08:04.015156",
     "exception": false,
     "start_time": "2024-10-23T21:07:45.587799",
     "status": "completed"
    },
    "tags": []
   },
   "outputs": [
    {
     "name": "stdout",
     "output_type": "stream",
     "text": [
      "Cloning into 'spectre'...\r\n",
      "remote: Enumerating objects: 276, done.\u001b[K\r\n",
      "remote: Counting objects: 100% (24/24), done.\u001b[K\r\n",
      "remote: Compressing objects: 100% (13/13), done.\u001b[K\r\n",
      "remote: Total 276 (delta 20), reused 12 (delta 11), pack-reused 252 (from 1)\u001b[K\r\n",
      "Receiving objects: 100% (276/276), 17.47 MiB | 40.46 MiB/s, done.\r\n",
      "Resolving deltas: 100% (144/144), done.\r\n",
      "Submodule 'external/Visual_Speech_Recognition_for_Multiple_Languages' (https://github.com/mpc001/Visual_Speech_Recognition_for_Multiple_Languages) registered for path 'external/Visual_Speech_Recognition_for_Multiple_Languages'\r\n",
      "Submodule 'external/av_hubert' (https://github.com/facebookresearch/av_hubert) registered for path 'external/av_hubert'\r\n",
      "Submodule 'external/face_alignment' (https://github.com/hhj1897/face_alignment.git) registered for path 'external/face_alignment'\r\n",
      "Submodule 'external/face_detection' (https://github.com/hhj1897/face_detection) registered for path 'external/face_detection'\r\n",
      "Cloning into '/kaggle/working/spectre/external/Visual_Speech_Recognition_for_Multiple_Languages'...\r\n",
      "remote: Enumerating objects: 277, done.        \r\n",
      "remote: Counting objects: 100% (26/26), done.        \r\n",
      "remote: Compressing objects: 100% (14/14), done.        \r\n",
      "remote: Total 277 (delta 14), reused 12 (delta 12), pack-reused 251 (from 1)        \r\n",
      "Receiving objects: 100% (277/277), 69.76 MiB | 24.55 MiB/s, done.\r\n",
      "Resolving deltas: 100% (69/69), done.\r\n",
      "Cloning into '/kaggle/working/spectre/external/av_hubert'...\r\n",
      "remote: Enumerating objects: 149, done.        \r\n",
      "remote: Counting objects: 100% (38/38), done.        \r\n",
      "remote: Compressing objects: 100% (24/24), done.        \r\n",
      "remote: Total 149 (delta 18), reused 20 (delta 14), pack-reused 111 (from 1)        \r\n",
      "Receiving objects: 100% (149/149), 4.65 MiB | 20.69 MiB/s, done.\r\n",
      "Resolving deltas: 100% (64/64), done.\r\n",
      "Cloning into '/kaggle/working/spectre/external/face_alignment'...\r\n",
      "remote: Enumerating objects: 190, done.        \r\n",
      "remote: Counting objects: 100% (32/32), done.        \r\n",
      "remote: Compressing objects: 100% (6/6), done.        \r\n",
      "remote: Total 190 (delta 27), reused 27 (delta 26), pack-reused 158 (from 1)        \r\n",
      "Receiving objects: 100% (190/190), 213.82 MiB | 32.54 MiB/s, done.\r\n",
      "Resolving deltas: 100% (84/84), done.\r\n",
      "Cloning into '/kaggle/working/spectre/external/face_detection'...\r\n",
      "remote: Enumerating objects: 300, done.        \r\n",
      "remote: Counting objects: 100% (50/50), done.        \r\n",
      "remote: Compressing objects: 100% (11/11), done.        \r\n",
      "remote: Total 300 (delta 41), reused 39 (delta 39), pack-reused 250 (from 1)        \r\n",
      "Receiving objects: 100% (300/300), 81.19 MiB | 25.02 MiB/s, done.\r\n",
      "Resolving deltas: 100% (141/141), done.\r\n",
      "Submodule path 'external/Visual_Speech_Recognition_for_Multiple_Languages': checked out '53e940ee3d4bab5e5a69276ac0a7a68047c5ab8d'\r\n",
      "Submodule path 'external/av_hubert': checked out 'cd1fd24e71b18f5c1a7203aec6ce4479a61e7e67'\r\n",
      "Submodule 'fairseq' (https://github.com/pytorch/fairseq) registered for path 'external/av_hubert/fairseq'\r\n",
      "Cloning into '/kaggle/working/spectre/external/av_hubert/fairseq'...\r\n",
      "remote: Enumerating objects: 35385, done.        \r\n",
      "remote: Counting objects: 100% (48/48), done.        \r\n",
      "remote: Compressing objects: 100% (35/35), done.        \r\n",
      "remote: Total 35385 (delta 10), reused 38 (delta 10), pack-reused 35337 (from 1)        \r\n",
      "Receiving objects: 100% (35385/35385), 25.47 MiB | 30.69 MiB/s, done.\r\n",
      "Resolving deltas: 100% (25539/25539), done.\r\n",
      "Submodule path 'external/av_hubert/fairseq': checked out 'afc77bdf4bb51453ce76f1572ef2ee6ddcda8eeb'\r\n",
      "Submodule 'fairseq/model_parallel/megatron' (https://github.com/ngoyal2707/Megatron-LM) registered for path 'external/av_hubert/fairseq/fairseq/model_parallel/megatron'\r\n",
      "Cloning into '/kaggle/working/spectre/external/av_hubert/fairseq/fairseq/model_parallel/megatron'...\r\n",
      "remote: Enumerating objects: 8394, done.        \r\n",
      "remote: Total 8394 (delta 0), reused 0 (delta 0), pack-reused 8394 (from 1)        \r\n",
      "Receiving objects: 100% (8394/8394), 2.92 MiB | 24.92 MiB/s, done.\r\n",
      "Resolving deltas: 100% (6335/6335), done.\r\n",
      "remote: Enumerating objects: 8, done.\u001b[K\r\n",
      "remote: Counting objects: 100% (6/6), done.\u001b[K\r\n",
      "remote: Total 8 (delta 6), reused 6 (delta 6), pack-reused 2 (from 1)\u001b[K\r\n",
      "Unpacking objects: 100% (8/8), 1.85 KiB | 630.00 KiB/s, done.\r\n",
      "From https://github.com/ngoyal2707/Megatron-LM\r\n",
      " * branch            adb23324c222aad0aad89308e70302d996a5eaeb -> FETCH_HEAD\r\n",
      "Submodule path 'external/av_hubert/fairseq/fairseq/model_parallel/megatron': checked out 'adb23324c222aad0aad89308e70302d996a5eaeb'\r\n",
      "Submodule path 'external/face_alignment': checked out '9cf5494e443f26d567972f3f50f6212d65b76c01'\r\n",
      "Submodule path 'external/face_detection': checked out '71852f00b815f568f3b51f045a418ae84cbe162a'\r\n"
     ]
    }
   ],
   "source": [
    "!git clone --recurse-submodules -j4 https://github.com/Niwant/spectre.git\n"
   ]
  },
  {
   "cell_type": "code",
   "execution_count": 2,
   "id": "d9decf51",
   "metadata": {
    "execution": {
     "iopub.execute_input": "2024-10-23T21:08:04.045535Z",
     "iopub.status.busy": "2024-10-23T21:08:04.045212Z",
     "iopub.status.idle": "2024-10-23T21:08:04.051028Z",
     "shell.execute_reply": "2024-10-23T21:08:04.050205Z"
    },
    "papermill": {
     "duration": 0.023057,
     "end_time": "2024-10-23T21:08:04.053038",
     "exception": false,
     "start_time": "2024-10-23T21:08:04.029981",
     "status": "completed"
    },
    "tags": []
   },
   "outputs": [
    {
     "name": "stdout",
     "output_type": "stream",
     "text": [
      "/kaggle/working/spectre\n"
     ]
    }
   ],
   "source": [
    "cd /kaggle/working/spectre/"
   ]
  },
  {
   "cell_type": "code",
   "execution_count": 3,
   "id": "d5513bb1",
   "metadata": {
    "execution": {
     "iopub.execute_input": "2024-10-23T21:08:04.082182Z",
     "iopub.status.busy": "2024-10-23T21:08:04.081845Z",
     "iopub.status.idle": "2024-10-23T21:08:33.055746Z",
     "shell.execute_reply": "2024-10-23T21:08:33.054760Z"
    },
    "papermill": {
     "duration": 28.990935,
     "end_time": "2024-10-23T21:08:33.058136",
     "exception": false,
     "start_time": "2024-10-23T21:08:04.067201",
     "status": "completed"
    },
    "tags": []
   },
   "outputs": [
    {
     "name": "stdout",
     "output_type": "stream",
     "text": [
      "Requirement already satisfied: torch in /opt/conda/lib/python3.10/site-packages (2.4.0)\r\n",
      "Requirement already satisfied: torchvision in /opt/conda/lib/python3.10/site-packages (0.19.0)\r\n",
      "Requirement already satisfied: torchaudio in /opt/conda/lib/python3.10/site-packages (2.4.0)\r\n",
      "Requirement already satisfied: filelock in /opt/conda/lib/python3.10/site-packages (from torch) (3.15.1)\r\n",
      "Requirement already satisfied: typing-extensions>=4.8.0 in /opt/conda/lib/python3.10/site-packages (from torch) (4.12.2)\r\n",
      "Requirement already satisfied: sympy in /opt/conda/lib/python3.10/site-packages (from torch) (1.13.3)\r\n",
      "Requirement already satisfied: networkx in /opt/conda/lib/python3.10/site-packages (from torch) (3.3)\r\n",
      "Requirement already satisfied: jinja2 in /opt/conda/lib/python3.10/site-packages (from torch) (3.1.4)\r\n",
      "Requirement already satisfied: fsspec in /opt/conda/lib/python3.10/site-packages (from torch) (2024.6.1)\r\n",
      "Requirement already satisfied: numpy in /opt/conda/lib/python3.10/site-packages (from torchvision) (1.26.4)\r\n",
      "Requirement already satisfied: pillow!=8.3.*,>=5.3.0 in /opt/conda/lib/python3.10/site-packages (from torchvision) (10.3.0)\r\n",
      "Requirement already satisfied: MarkupSafe>=2.0 in /opt/conda/lib/python3.10/site-packages (from jinja2->torch) (2.1.5)\r\n",
      "Requirement already satisfied: mpmath<1.4,>=1.1.0 in /opt/conda/lib/python3.10/site-packages (from sympy->torch) (1.3.0)\r\n",
      "Collecting fvcore\r\n",
      "  Downloading fvcore-0.1.5.post20221221.tar.gz (50 kB)\r\n",
      "\u001b[2K     \u001b[90m━━━━━━━━━━━━━━━━━━━━━━━━━━━━━━━━━━━━━━━━\u001b[0m \u001b[32m50.2/50.2 kB\u001b[0m \u001b[31m2.2 MB/s\u001b[0m eta \u001b[36m0:00:00\u001b[0m\r\n",
      "\u001b[?25h  Preparing metadata (setup.py) ... \u001b[?25l-\b \bdone\r\n",
      "\u001b[?25hCollecting iopath\r\n",
      "  Downloading iopath-0.1.10.tar.gz (42 kB)\r\n",
      "\u001b[2K     \u001b[90m━━━━━━━━━━━━━━━━━━━━━━━━━━━━━━━━━━━━━━━━\u001b[0m \u001b[32m42.2/42.2 kB\u001b[0m \u001b[31m2.7 MB/s\u001b[0m eta \u001b[36m0:00:00\u001b[0m\r\n",
      "\u001b[?25h  Preparing metadata (setup.py) ... \u001b[?25l-\b \bdone\r\n",
      "\u001b[?25hRequirement already satisfied: numpy in /opt/conda/lib/python3.10/site-packages (from fvcore) (1.26.4)\r\n",
      "Collecting yacs>=0.1.6 (from fvcore)\r\n",
      "  Downloading yacs-0.1.8-py3-none-any.whl.metadata (639 bytes)\r\n",
      "Requirement already satisfied: pyyaml>=5.1 in /opt/conda/lib/python3.10/site-packages (from fvcore) (6.0.2)\r\n",
      "Requirement already satisfied: tqdm in /opt/conda/lib/python3.10/site-packages (from fvcore) (4.66.4)\r\n",
      "Requirement already satisfied: termcolor>=1.1 in /opt/conda/lib/python3.10/site-packages (from fvcore) (2.4.0)\r\n",
      "Requirement already satisfied: Pillow in /opt/conda/lib/python3.10/site-packages (from fvcore) (10.3.0)\r\n",
      "Requirement already satisfied: tabulate in /opt/conda/lib/python3.10/site-packages (from fvcore) (0.9.0)\r\n",
      "Requirement already satisfied: typing_extensions in /opt/conda/lib/python3.10/site-packages (from iopath) (4.12.2)\r\n",
      "Collecting portalocker (from iopath)\r\n",
      "  Downloading portalocker-2.10.1-py3-none-any.whl.metadata (8.5 kB)\r\n",
      "Downloading yacs-0.1.8-py3-none-any.whl (14 kB)\r\n",
      "Downloading portalocker-2.10.1-py3-none-any.whl (18 kB)\r\n",
      "Building wheels for collected packages: fvcore, iopath\r\n",
      "  Building wheel for fvcore (setup.py) ... \u001b[?25l-\b \b\\\b \bdone\r\n",
      "\u001b[?25h  Created wheel for fvcore: filename=fvcore-0.1.5.post20221221-py3-none-any.whl size=61400 sha256=b744a11171de4feaad19ea7a77ec29c39a5dff0d3a6306e4c4f5450e3b5b8e4d\r\n",
      "  Stored in directory: /root/.cache/pip/wheels/01/c0/af/77c1cf53a1be9e42a52b48e5af2169d40ec2e89f7362489dd0\r\n",
      "  Building wheel for iopath (setup.py) ... \u001b[?25l-\b \b\\\b \bdone\r\n",
      "\u001b[?25h  Created wheel for iopath: filename=iopath-0.1.10-py3-none-any.whl size=31532 sha256=3531e4a569cdf2ab00ffcf742fc6390ef35ee2cf9f67f393d92fcb9631947518\r\n",
      "  Stored in directory: /root/.cache/pip/wheels/9a/a3/b6/ac0fcd1b4ed5cfeb3db92e6a0e476cfd48ed0df92b91080c1d\r\n",
      "Successfully built fvcore iopath\r\n",
      "Installing collected packages: yacs, portalocker, iopath, fvcore\r\n",
      "Successfully installed fvcore-0.1.5.post20221221 iopath-0.1.10 portalocker-2.10.1 yacs-0.1.8\r\n"
     ]
    }
   ],
   "source": [
    "!pip install torch torchvision torchaudio \n",
    "!pip install fvcore iopath\n"
   ]
  },
  {
   "cell_type": "code",
   "execution_count": 4,
   "id": "86d4e963",
   "metadata": {
    "execution": {
     "iopub.execute_input": "2024-10-23T21:08:33.092454Z",
     "iopub.status.busy": "2024-10-23T21:08:33.092116Z",
     "iopub.status.idle": "2024-10-23T21:19:21.907780Z",
     "shell.execute_reply": "2024-10-23T21:19:21.906350Z"
    },
    "papermill": {
     "duration": 648.835091,
     "end_time": "2024-10-23T21:19:21.909812",
     "exception": false,
     "start_time": "2024-10-23T21:08:33.074721",
     "status": "completed"
    },
    "tags": []
   },
   "outputs": [
    {
     "name": "stdout",
     "output_type": "stream",
     "text": [
      "Collecting git+https://github.com/facebookresearch/pytorch3d.git\r\n",
      "  Cloning https://github.com/facebookresearch/pytorch3d.git to /tmp/pip-req-build-rcs7pvgb\r\n",
      "  Running command git clone --filter=blob:none --quiet https://github.com/facebookresearch/pytorch3d.git /tmp/pip-req-build-rcs7pvgb\r\n",
      "  Resolved https://github.com/facebookresearch/pytorch3d.git to commit 58566963d620cbe067ec53eae62ca262aecfbe27\r\n",
      "  Preparing metadata (setup.py) ... \u001b[?25l-\b \bdone\r\n",
      "\u001b[?25hRequirement already satisfied: iopath in /opt/conda/lib/python3.10/site-packages (from pytorch3d==0.7.8) (0.1.10)\r\n",
      "Requirement already satisfied: tqdm in /opt/conda/lib/python3.10/site-packages (from iopath->pytorch3d==0.7.8) (4.66.4)\r\n",
      "Requirement already satisfied: typing-extensions in /opt/conda/lib/python3.10/site-packages (from iopath->pytorch3d==0.7.8) (4.12.2)\r\n",
      "Requirement already satisfied: portalocker in /opt/conda/lib/python3.10/site-packages (from iopath->pytorch3d==0.7.8) (2.10.1)\r\n",
      "Building wheels for collected packages: pytorch3d\r\n",
      "  Building wheel for pytorch3d (setup.py) ... \u001b[?25l-\b \b\\\b \b|\b \b/\b \b-\b \b\\\b \b|\b \b/\b \b-\b \b\\\b \b|\b \b/\b \b-\b \b\\\b \b|\b \b/\b \b-\b \b\\\b \b|\b \b/\b \b-\b \b\\\b \b|\b \b/\b \b-\b \b\\\b \b|\b \b/\b \b-\b \b\\\b \b|\b \b/\b \b-\b \b\\\b \b|\b \b/\b \b-\b \b\\\b \b|\b \b/\b \b-\b \b\\\b \b|\b \b/\b \b-\b \b\\\b \b|\b \b/\b \b-\b \b\\\b \b|\b \b/\b \b-\b \b\\\b \b|\b \b/\b \b-\b \b\\\b \b|\b \b/\b \b-\b \b\\\b \b|\b \b/\b \b-\b \b\\\b \b|\b \b/\b \b-\b \b\\\b \b|\b \bdone\r\n",
      "\u001b[?25h  Created wheel for pytorch3d: filename=pytorch3d-0.7.8-cp310-cp310-linux_x86_64.whl size=7165463 sha256=9736802982df097337082d3efc38fa155874aef63f1c333fe6e45e35dbd43153\r\n",
      "  Stored in directory: /tmp/pip-ephem-wheel-cache-q88efqx8/wheels/dd/74/cc/b9266c863f19026f796e59a04e1cd9eb3754474a52ce1b66ce\r\n",
      "Successfully built pytorch3d\r\n",
      "Installing collected packages: pytorch3d\r\n",
      "Successfully installed pytorch3d-0.7.8\r\n",
      "Note: you may need to restart the kernel to use updated packages.\n"
     ]
    }
   ],
   "source": [
    "pip install \"git+https://github.com/facebookresearch/pytorch3d.git\""
   ]
  },
  {
   "cell_type": "code",
   "execution_count": 5,
   "id": "48defc2b",
   "metadata": {
    "execution": {
     "iopub.execute_input": "2024-10-23T21:19:21.956814Z",
     "iopub.status.busy": "2024-10-23T21:19:21.956116Z",
     "iopub.status.idle": "2024-10-23T21:19:22.933976Z",
     "shell.execute_reply": "2024-10-23T21:19:22.933080Z"
    },
    "papermill": {
     "duration": 1.003586,
     "end_time": "2024-10-23T21:19:22.935975",
     "exception": false,
     "start_time": "2024-10-23T21:19:21.932389",
     "status": "completed"
    },
    "tags": []
   },
   "outputs": [
    {
     "name": "stdout",
     "output_type": "stream",
     "text": [
      "total 1420\r\n",
      "drwxr-xr-x 10 root root    4096 Oct 23 21:07 \u001b[0m\u001b[01;34m.\u001b[0m/\r\n",
      "drwxr-xr-x  3 root root    4096 Oct 23 21:07 \u001b[01;34m..\u001b[0m/\r\n",
      "drwxr-xr-x  9 root root    4096 Oct 23 21:07 \u001b[01;34m.git\u001b[0m/\r\n",
      "-rw-r--r--  1 root root     669 Oct 23 21:07 .gitignore\r\n",
      "-rw-r--r--  1 root root     575 Oct 23 21:07 .gitmodules\r\n",
      "-rw-r--r--  1 root root   20849 Oct 23 21:07 LICENSE\r\n",
      "-rw-r--r--  1 root root    5850 Oct 23 21:07 README.md\r\n",
      "-rw-r--r--  1 root root       0 Oct 23 21:07 __init__.py\r\n",
      "-rw-r--r--  1 root root   11633 Oct 23 21:07 ccn-spectre-project.ipynb\r\n",
      "-rw-r--r--  1 root root    6976 Oct 23 21:07 config.py\r\n",
      "drwxr-xr-x  2 root root    4096 Oct 23 21:07 \u001b[01;34mconfigs\u001b[0m/\r\n",
      "-rw-r--r--  1 root root 1321519 Oct 23 21:07 cover.png\r\n",
      "drwxr-xr-x  2 root root    4096 Oct 23 21:07 \u001b[01;34mdata\u001b[0m/\r\n",
      "drwxr-xr-x  2 root root    4096 Oct 23 21:07 \u001b[01;34mdatasets\u001b[0m/\r\n",
      "-rw-r--r--  1 root root    9996 Oct 23 21:07 demo.py\r\n",
      "drwxr-xr-x  6 root root    4096 Oct 23 21:07 \u001b[01;34mexternal\u001b[0m/\r\n",
      "-rw-r--r--  1 root root    1878 Oct 23 21:07 get_training_data.sh\r\n",
      "-rw-r--r--  1 root root    1172 Oct 23 21:07 main.py\r\n",
      "-rw-r--r--  1 root root     937 Oct 23 21:07 quick_install.sh\r\n",
      "-rw-r--r--  1 root root     183 Oct 23 21:07 requirements.txt\r\n",
      "drwxr-xr-x  5 root root    4096 Oct 23 21:07 \u001b[01;34msamples\u001b[0m/\r\n",
      "drwxr-xr-x  4 root root    4096 Oct 23 21:07 \u001b[01;34msrc\u001b[0m/\r\n",
      "drwxr-xr-x  2 root root    4096 Oct 23 21:07 \u001b[01;34mutils\u001b[0m/\r\n"
     ]
    }
   ],
   "source": [
    "ls -la"
   ]
  },
  {
   "cell_type": "code",
   "execution_count": 6,
   "id": "491299fc",
   "metadata": {
    "execution": {
     "iopub.execute_input": "2024-10-23T21:19:22.981640Z",
     "iopub.status.busy": "2024-10-23T21:19:22.981324Z",
     "iopub.status.idle": "2024-10-23T21:19:45.504320Z",
     "shell.execute_reply": "2024-10-23T21:19:45.503054Z"
    },
    "papermill": {
     "duration": 22.548161,
     "end_time": "2024-10-23T21:19:45.506391",
     "exception": false,
     "start_time": "2024-10-23T21:19:22.958230",
     "status": "completed"
    },
    "tags": []
   },
   "outputs": [
    {
     "name": "stdout",
     "output_type": "stream",
     "text": [
      "Requirement already satisfied: scikit_image in /opt/conda/lib/python3.10/site-packages (0.23.2)\r\n",
      "Requirement already satisfied: kornia in /opt/conda/lib/python3.10/site-packages (0.7.3)\r\n",
      "Collecting chumpy\r\n",
      "  Downloading chumpy-0.70.tar.gz (50 kB)\r\n",
      "\u001b[2K     \u001b[90m━━━━━━━━━━━━━━━━━━━━━━━━━━━━━━━━━━━━━━━━\u001b[0m \u001b[32m50.6/50.6 kB\u001b[0m \u001b[31m1.8 MB/s\u001b[0m eta \u001b[36m0:00:00\u001b[0m\r\n",
      "\u001b[?25h  Preparing metadata (setup.py) ... \u001b[?25l-\b \bdone\r\n",
      "\u001b[?25hRequirement already satisfied: librosa in /opt/conda/lib/python3.10/site-packages (0.10.2.post1)\r\n",
      "Collecting av\r\n",
      "  Downloading av-13.1.0-cp310-cp310-manylinux_2_17_x86_64.manylinux2014_x86_64.whl.metadata (4.4 kB)\r\n",
      "Collecting loguru\r\n",
      "  Downloading loguru-0.7.2-py3-none-any.whl.metadata (23 kB)\r\n",
      "Requirement already satisfied: tensorboard in /opt/conda/lib/python3.10/site-packages (2.16.2)\r\n",
      "Requirement already satisfied: pytorch_lightning in /opt/conda/lib/python3.10/site-packages (2.4.0)\r\n",
      "Requirement already satisfied: opencv-python in /opt/conda/lib/python3.10/site-packages (4.10.0.84)\r\n",
      "Collecting phonemizer\r\n",
      "  Downloading phonemizer-3.3.0-py3-none-any.whl.metadata (48 kB)\r\n",
      "\u001b[2K     \u001b[90m━━━━━━━━━━━━━━━━━━━━━━━━━━━━━━━━━━━━━━━━\u001b[0m \u001b[32m48.2/48.2 kB\u001b[0m \u001b[31m3.0 MB/s\u001b[0m eta \u001b[36m0:00:00\u001b[0m\r\n",
      "\u001b[?25hCollecting jiwer\r\n",
      "  Downloading jiwer-3.0.4-py3-none-any.whl.metadata (2.6 kB)\r\n",
      "Requirement already satisfied: numpy>=1.23 in /opt/conda/lib/python3.10/site-packages (from scikit_image) (1.26.4)\r\n",
      "Requirement already satisfied: scipy>=1.9 in /opt/conda/lib/python3.10/site-packages (from scikit_image) (1.14.1)\r\n",
      "Requirement already satisfied: networkx>=2.8 in /opt/conda/lib/python3.10/site-packages (from scikit_image) (3.3)\r\n",
      "Requirement already satisfied: pillow>=9.1 in /opt/conda/lib/python3.10/site-packages (from scikit_image) (10.3.0)\r\n",
      "Requirement already satisfied: imageio>=2.33 in /opt/conda/lib/python3.10/site-packages (from scikit_image) (2.34.1)\r\n",
      "Requirement already satisfied: tifffile>=2022.8.12 in /opt/conda/lib/python3.10/site-packages (from scikit_image) (2024.5.22)\r\n",
      "Requirement already satisfied: packaging>=21 in /opt/conda/lib/python3.10/site-packages (from scikit_image) (21.3)\r\n",
      "Requirement already satisfied: lazy-loader>=0.4 in /opt/conda/lib/python3.10/site-packages (from scikit_image) (0.4)\r\n",
      "Requirement already satisfied: kornia-rs>=0.1.0 in /opt/conda/lib/python3.10/site-packages (from kornia) (0.1.5)\r\n",
      "Requirement already satisfied: torch>=1.9.1 in /opt/conda/lib/python3.10/site-packages (from kornia) (2.4.0)\r\n",
      "Requirement already satisfied: six>=1.11.0 in /opt/conda/lib/python3.10/site-packages (from chumpy) (1.16.0)\r\n",
      "Requirement already satisfied: audioread>=2.1.9 in /opt/conda/lib/python3.10/site-packages (from librosa) (3.0.1)\r\n",
      "Requirement already satisfied: scikit-learn>=0.20.0 in /opt/conda/lib/python3.10/site-packages (from librosa) (1.2.2)\r\n",
      "Requirement already satisfied: joblib>=0.14 in /opt/conda/lib/python3.10/site-packages (from librosa) (1.4.2)\r\n",
      "Requirement already satisfied: decorator>=4.3.0 in /opt/conda/lib/python3.10/site-packages (from librosa) (5.1.1)\r\n",
      "Requirement already satisfied: numba>=0.51.0 in /opt/conda/lib/python3.10/site-packages (from librosa) (0.60.0)\r\n",
      "Requirement already satisfied: soundfile>=0.12.1 in /opt/conda/lib/python3.10/site-packages (from librosa) (0.12.1)\r\n",
      "Requirement already satisfied: pooch>=1.1 in /opt/conda/lib/python3.10/site-packages (from librosa) (1.8.2)\r\n",
      "Requirement already satisfied: soxr>=0.3.2 in /opt/conda/lib/python3.10/site-packages (from librosa) (0.5.0.post1)\r\n",
      "Requirement already satisfied: typing-extensions>=4.1.1 in /opt/conda/lib/python3.10/site-packages (from librosa) (4.12.2)\r\n",
      "Requirement already satisfied: msgpack>=1.0 in /opt/conda/lib/python3.10/site-packages (from librosa) (1.0.8)\r\n",
      "Requirement already satisfied: absl-py>=0.4 in /opt/conda/lib/python3.10/site-packages (from tensorboard) (1.4.0)\r\n",
      "Requirement already satisfied: grpcio>=1.48.2 in /opt/conda/lib/python3.10/site-packages (from tensorboard) (1.62.2)\r\n",
      "Requirement already satisfied: markdown>=2.6.8 in /opt/conda/lib/python3.10/site-packages (from tensorboard) (3.6)\r\n",
      "Requirement already satisfied: protobuf!=4.24.0,>=3.19.6 in /opt/conda/lib/python3.10/site-packages (from tensorboard) (3.20.3)\r\n",
      "Requirement already satisfied: setuptools>=41.0.0 in /opt/conda/lib/python3.10/site-packages (from tensorboard) (70.0.0)\r\n",
      "Requirement already satisfied: tensorboard-data-server<0.8.0,>=0.7.0 in /opt/conda/lib/python3.10/site-packages (from tensorboard) (0.7.2)\r\n",
      "Requirement already satisfied: werkzeug>=1.0.1 in /opt/conda/lib/python3.10/site-packages (from tensorboard) (3.0.4)\r\n",
      "Requirement already satisfied: tqdm>=4.57.0 in /opt/conda/lib/python3.10/site-packages (from pytorch_lightning) (4.66.4)\r\n",
      "Requirement already satisfied: PyYAML>=5.4 in /opt/conda/lib/python3.10/site-packages (from pytorch_lightning) (6.0.2)\r\n",
      "Requirement already satisfied: fsspec>=2022.5.0 in /opt/conda/lib/python3.10/site-packages (from fsspec[http]>=2022.5.0->pytorch_lightning) (2024.6.1)\r\n",
      "Requirement already satisfied: torchmetrics>=0.7.0 in /opt/conda/lib/python3.10/site-packages (from pytorch_lightning) (1.4.2)\r\n",
      "Requirement already satisfied: lightning-utilities>=0.10.0 in /opt/conda/lib/python3.10/site-packages (from pytorch_lightning) (0.11.7)\r\n",
      "Collecting segments (from phonemizer)\r\n",
      "  Downloading segments-2.2.1-py2.py3-none-any.whl.metadata (3.3 kB)\r\n",
      "Requirement already satisfied: attrs>=18.1 in /opt/conda/lib/python3.10/site-packages (from phonemizer) (23.2.0)\r\n",
      "Collecting dlinfo (from phonemizer)\r\n",
      "  Downloading dlinfo-1.2.1-py3-none-any.whl.metadata (1.1 kB)\r\n",
      "Requirement already satisfied: click<9.0.0,>=8.1.3 in /opt/conda/lib/python3.10/site-packages (from jiwer) (8.1.7)\r\n",
      "Collecting rapidfuzz<4,>=3 (from jiwer)\r\n",
      "  Downloading rapidfuzz-3.10.0-cp310-cp310-manylinux_2_17_x86_64.manylinux2014_x86_64.whl.metadata (11 kB)\r\n",
      "Requirement already satisfied: aiohttp!=4.0.0a0,!=4.0.0a1 in /opt/conda/lib/python3.10/site-packages (from fsspec[http]>=2022.5.0->pytorch_lightning) (3.9.5)\r\n",
      "Requirement already satisfied: llvmlite<0.44,>=0.43.0dev0 in /opt/conda/lib/python3.10/site-packages (from numba>=0.51.0->librosa) (0.43.0)\r\n",
      "Requirement already satisfied: pyparsing!=3.0.5,>=2.0.2 in /opt/conda/lib/python3.10/site-packages (from packaging>=21->scikit_image) (3.1.2)\r\n",
      "Requirement already satisfied: platformdirs>=2.5.0 in /opt/conda/lib/python3.10/site-packages (from pooch>=1.1->librosa) (3.11.0)\r\n",
      "Requirement already satisfied: requests>=2.19.0 in /opt/conda/lib/python3.10/site-packages (from pooch>=1.1->librosa) (2.32.3)\r\n",
      "Requirement already satisfied: threadpoolctl>=2.0.0 in /opt/conda/lib/python3.10/site-packages (from scikit-learn>=0.20.0->librosa) (3.5.0)\r\n",
      "Requirement already satisfied: cffi>=1.0 in /opt/conda/lib/python3.10/site-packages (from soundfile>=0.12.1->librosa) (1.16.0)\r\n",
      "Requirement already satisfied: filelock in /opt/conda/lib/python3.10/site-packages (from torch>=1.9.1->kornia) (3.15.1)\r\n",
      "Requirement already satisfied: sympy in /opt/conda/lib/python3.10/site-packages (from torch>=1.9.1->kornia) (1.13.3)\r\n",
      "Requirement already satisfied: jinja2 in /opt/conda/lib/python3.10/site-packages (from torch>=1.9.1->kornia) (3.1.4)\r\n",
      "Requirement already satisfied: MarkupSafe>=2.1.1 in /opt/conda/lib/python3.10/site-packages (from werkzeug>=1.0.1->tensorboard) (2.1.5)\r\n",
      "Collecting clldutils>=1.7.3 (from segments->phonemizer)\r\n",
      "  Downloading clldutils-3.23.0-py2.py3-none-any.whl.metadata (3.0 kB)\r\n",
      "Collecting csvw>=1.5.6 (from segments->phonemizer)\r\n",
      "  Downloading csvw-3.5.0-py2.py3-none-any.whl.metadata (10 kB)\r\n",
      "Requirement already satisfied: regex in /opt/conda/lib/python3.10/site-packages (from segments->phonemizer) (2024.5.15)\r\n",
      "Requirement already satisfied: aiosignal>=1.1.2 in /opt/conda/lib/python3.10/site-packages (from aiohttp!=4.0.0a0,!=4.0.0a1->fsspec[http]>=2022.5.0->pytorch_lightning) (1.3.1)\r\n",
      "Requirement already satisfied: frozenlist>=1.1.1 in /opt/conda/lib/python3.10/site-packages (from aiohttp!=4.0.0a0,!=4.0.0a1->fsspec[http]>=2022.5.0->pytorch_lightning) (1.4.1)\r\n",
      "Requirement already satisfied: multidict<7.0,>=4.5 in /opt/conda/lib/python3.10/site-packages (from aiohttp!=4.0.0a0,!=4.0.0a1->fsspec[http]>=2022.5.0->pytorch_lightning) (6.0.5)\r\n",
      "Requirement already satisfied: yarl<2.0,>=1.0 in /opt/conda/lib/python3.10/site-packages (from aiohttp!=4.0.0a0,!=4.0.0a1->fsspec[http]>=2022.5.0->pytorch_lightning) (1.9.4)\r\n",
      "Requirement already satisfied: async-timeout<5.0,>=4.0 in /opt/conda/lib/python3.10/site-packages (from aiohttp!=4.0.0a0,!=4.0.0a1->fsspec[http]>=2022.5.0->pytorch_lightning) (4.0.3)\r\n",
      "Requirement already satisfied: pycparser in /opt/conda/lib/python3.10/site-packages (from cffi>=1.0->soundfile>=0.12.1->librosa) (2.22)\r\n",
      "Requirement already satisfied: python-dateutil in /opt/conda/lib/python3.10/site-packages (from clldutils>=1.7.3->segments->phonemizer) (2.9.0.post0)\r\n",
      "Requirement already satisfied: tabulate>=0.7.7 in /opt/conda/lib/python3.10/site-packages (from clldutils>=1.7.3->segments->phonemizer) (0.9.0)\r\n",
      "Requirement already satisfied: colorlog in /opt/conda/lib/python3.10/site-packages (from clldutils>=1.7.3->segments->phonemizer) (6.8.2)\r\n",
      "Collecting bibtexparser>=2.0.0b4 (from clldutils>=1.7.3->segments->phonemizer)\r\n",
      "  Downloading bibtexparser-2.0.0b7-py3-none-any.whl.metadata (5.6 kB)\r\n",
      "Collecting pylatexenc (from clldutils>=1.7.3->segments->phonemizer)\r\n",
      "  Downloading pylatexenc-2.10.tar.gz (162 kB)\r\n",
      "\u001b[2K     \u001b[90m━━━━━━━━━━━━━━━━━━━━━━━━━━━━━━━━━━━━━━━\u001b[0m \u001b[32m162.6/162.6 kB\u001b[0m \u001b[31m8.9 MB/s\u001b[0m eta \u001b[36m0:00:00\u001b[0m\r\n",
      "\u001b[?25h  Preparing metadata (setup.py) ... \u001b[?25l-\b \bdone\r\n",
      "\u001b[?25hRequirement already satisfied: lxml in /opt/conda/lib/python3.10/site-packages (from clldutils>=1.7.3->segments->phonemizer) (5.3.0)\r\n",
      "Requirement already satisfied: babel in /opt/conda/lib/python3.10/site-packages (from csvw>=1.5.6->segments->phonemizer) (2.15.0)\r\n",
      "Requirement already satisfied: colorama in /opt/conda/lib/python3.10/site-packages (from csvw>=1.5.6->segments->phonemizer) (0.4.6)\r\n",
      "Collecting isodate (from csvw>=1.5.6->segments->phonemizer)\r\n",
      "  Downloading isodate-0.7.2-py3-none-any.whl.metadata (11 kB)\r\n",
      "Requirement already satisfied: jsonschema in /opt/conda/lib/python3.10/site-packages (from csvw>=1.5.6->segments->phonemizer) (4.22.0)\r\n",
      "Collecting language-tags (from csvw>=1.5.6->segments->phonemizer)\r\n",
      "  Downloading language_tags-1.2.0-py3-none-any.whl.metadata (2.1 kB)\r\n",
      "Collecting rdflib (from csvw>=1.5.6->segments->phonemizer)\r\n",
      "  Downloading rdflib-7.1.0-py3-none-any.whl.metadata (11 kB)\r\n",
      "Collecting rfc3986<2 (from csvw>=1.5.6->segments->phonemizer)\r\n",
      "  Downloading rfc3986-1.5.0-py2.py3-none-any.whl.metadata (6.5 kB)\r\n",
      "Requirement already satisfied: uritemplate>=3.0.0 in /opt/conda/lib/python3.10/site-packages (from csvw>=1.5.6->segments->phonemizer) (3.0.1)\r\n",
      "Requirement already satisfied: charset-normalizer<4,>=2 in /opt/conda/lib/python3.10/site-packages (from requests>=2.19.0->pooch>=1.1->librosa) (3.3.2)\r\n",
      "Requirement already satisfied: idna<4,>=2.5 in /opt/conda/lib/python3.10/site-packages (from requests>=2.19.0->pooch>=1.1->librosa) (3.7)\r\n",
      "Requirement already satisfied: urllib3<3,>=1.21.1 in /opt/conda/lib/python3.10/site-packages (from requests>=2.19.0->pooch>=1.1->librosa) (1.26.18)\r\n",
      "Requirement already satisfied: certifi>=2017.4.17 in /opt/conda/lib/python3.10/site-packages (from requests>=2.19.0->pooch>=1.1->librosa) (2024.8.30)\r\n",
      "Requirement already satisfied: mpmath<1.4,>=1.1.0 in /opt/conda/lib/python3.10/site-packages (from sympy->torch>=1.9.1->kornia) (1.3.0)\r\n",
      "Requirement already satisfied: jsonschema-specifications>=2023.03.6 in /opt/conda/lib/python3.10/site-packages (from jsonschema->csvw>=1.5.6->segments->phonemizer) (2023.12.1)\r\n",
      "Requirement already satisfied: referencing>=0.28.4 in /opt/conda/lib/python3.10/site-packages (from jsonschema->csvw>=1.5.6->segments->phonemizer) (0.35.1)\r\n",
      "Requirement already satisfied: rpds-py>=0.7.1 in /opt/conda/lib/python3.10/site-packages (from jsonschema->csvw>=1.5.6->segments->phonemizer) (0.18.1)\r\n",
      "Collecting html5lib-modern<2.0,>=1.2 (from rdflib->csvw>=1.5.6->segments->phonemizer)\r\n",
      "  Downloading html5lib_modern-1.2-py2.py3-none-any.whl.metadata (7.8 kB)\r\n",
      "Downloading av-13.1.0-cp310-cp310-manylinux_2_17_x86_64.manylinux2014_x86_64.whl (33.1 MB)\r\n",
      "\u001b[2K   \u001b[90m━━━━━━━━━━━━━━━━━━━━━━━━━━━━━━━━━━━━━━━━\u001b[0m \u001b[32m33.1/33.1 MB\u001b[0m \u001b[31m55.0 MB/s\u001b[0m eta \u001b[36m0:00:00\u001b[0m\r\n",
      "\u001b[?25hDownloading loguru-0.7.2-py3-none-any.whl (62 kB)\r\n",
      "\u001b[2K   \u001b[90m━━━━━━━━━━━━━━━━━━━━━━━━━━━━━━━━━━━━━━━━\u001b[0m \u001b[32m62.5/62.5 kB\u001b[0m \u001b[31m4.4 MB/s\u001b[0m eta \u001b[36m0:00:00\u001b[0m\r\n",
      "\u001b[?25hDownloading phonemizer-3.3.0-py3-none-any.whl (103 kB)\r\n",
      "\u001b[2K   \u001b[90m━━━━━━━━━━━━━━━━━━━━━━━━━━━━━━━━━━━━━━━━\u001b[0m \u001b[32m103.8/103.8 kB\u001b[0m \u001b[31m7.7 MB/s\u001b[0m eta \u001b[36m0:00:00\u001b[0m\r\n",
      "\u001b[?25hDownloading jiwer-3.0.4-py3-none-any.whl (21 kB)\r\n",
      "Downloading rapidfuzz-3.10.0-cp310-cp310-manylinux_2_17_x86_64.manylinux2014_x86_64.whl (3.1 MB)\r\n",
      "\u001b[2K   \u001b[90m━━━━━━━━━━━━━━━━━━━━━━━━━━━━━━━━━━━━━━━━\u001b[0m \u001b[32m3.1/3.1 MB\u001b[0m \u001b[31m77.2 MB/s\u001b[0m eta \u001b[36m0:00:00\u001b[0m\r\n",
      "\u001b[?25hDownloading dlinfo-1.2.1-py3-none-any.whl (3.6 kB)\r\n",
      "Downloading segments-2.2.1-py2.py3-none-any.whl (15 kB)\r\n",
      "Downloading clldutils-3.23.0-py2.py3-none-any.whl (1.7 MB)\r\n",
      "\u001b[2K   \u001b[90m━━━━━━━━━━━━━━━━━━━━━━━━━━━━━━━━━━━━━━━━\u001b[0m \u001b[32m1.7/1.7 MB\u001b[0m \u001b[31m62.2 MB/s\u001b[0m eta \u001b[36m0:00:00\u001b[0m\r\n",
      "\u001b[?25hDownloading csvw-3.5.0-py2.py3-none-any.whl (59 kB)\r\n",
      "\u001b[2K   \u001b[90m━━━━━━━━━━━━━━━━━━━━━━━━━━━━━━━━━━━━━━━━\u001b[0m \u001b[32m59.9/59.9 kB\u001b[0m \u001b[31m4.0 MB/s\u001b[0m eta \u001b[36m0:00:00\u001b[0m\r\n",
      "\u001b[?25hDownloading bibtexparser-2.0.0b7-py3-none-any.whl (38 kB)\r\n",
      "Downloading rfc3986-1.5.0-py2.py3-none-any.whl (31 kB)\r\n",
      "Downloading isodate-0.7.2-py3-none-any.whl (22 kB)\r\n",
      "Downloading language_tags-1.2.0-py3-none-any.whl (213 kB)\r\n",
      "\u001b[2K   \u001b[90m━━━━━━━━━━━━━━━━━━━━━━━━━━━━━━━━━━━━━━━━\u001b[0m \u001b[32m213.4/213.4 kB\u001b[0m \u001b[31m14.0 MB/s\u001b[0m eta \u001b[36m0:00:00\u001b[0m\r\n",
      "\u001b[?25hDownloading rdflib-7.1.0-py3-none-any.whl (562 kB)\r\n",
      "\u001b[2K   \u001b[90m━━━━━━━━━━━━━━━━━━━━━━━━━━━━━━━━━━━━━━━━\u001b[0m \u001b[32m562.1/562.1 kB\u001b[0m \u001b[31m32.0 MB/s\u001b[0m eta \u001b[36m0:00:00\u001b[0m\r\n",
      "\u001b[?25hDownloading html5lib_modern-1.2-py2.py3-none-any.whl (116 kB)\r\n",
      "\u001b[2K   \u001b[90m━━━━━━━━━━━━━━━━━━━━━━━━━━━━━━━━━━━━━━━━\u001b[0m \u001b[32m116.2/116.2 kB\u001b[0m \u001b[31m9.1 MB/s\u001b[0m eta \u001b[36m0:00:00\u001b[0m\r\n",
      "\u001b[?25hBuilding wheels for collected packages: chumpy, pylatexenc\r\n",
      "  Building wheel for chumpy (setup.py) ... \u001b[?25l-\b \b\\\b \bdone\r\n",
      "\u001b[?25h  Created wheel for chumpy: filename=chumpy-0.70-py3-none-any.whl size=58263 sha256=2c6bea099e1b62d43f131104d71b48f5a3548c258bf643ae25e0ac2434375055\r\n",
      "  Stored in directory: /root/.cache/pip/wheels/e0/c1/ef/29ba7be03653a29ef6f2c3e1956d6c4d8877f2b243af411db1\r\n",
      "  Building wheel for pylatexenc (setup.py) ... \u001b[?25l-\b \b\\\b \bdone\r\n",
      "\u001b[?25h  Created wheel for pylatexenc: filename=pylatexenc-2.10-py3-none-any.whl size=136816 sha256=91ae46117f6f250873d48e6e68ecccaab4ce3a04b8d088d712d1f481c7eb0261\r\n",
      "  Stored in directory: /root/.cache/pip/wheels/d3/31/8b/e09b0386afd80cfc556c00408c9aeea5c35c4d484a9c762fd5\r\n",
      "Successfully built chumpy pylatexenc\r\n",
      "Installing collected packages: rfc3986, pylatexenc, language-tags, dlinfo, rapidfuzz, loguru, isodate, html5lib-modern, bibtexparser, av, rdflib, jiwer, clldutils, chumpy, csvw, segments, phonemizer\r\n",
      "Successfully installed av-13.1.0 bibtexparser-2.0.0b7 chumpy-0.70 clldutils-3.23.0 csvw-3.5.0 dlinfo-1.2.1 html5lib-modern-1.2 isodate-0.7.2 jiwer-3.0.4 language-tags-1.2.0 loguru-0.7.2 phonemizer-3.3.0 pylatexenc-2.10 rapidfuzz-3.10.0 rdflib-7.1.0 rfc3986-1.5.0 segments-2.2.1\r\n",
      "Note: you may need to restart the kernel to use updated packages.\n"
     ]
    }
   ],
   "source": [
    "pip install scikit_image kornia chumpy librosa av loguru tensorboard pytorch_lightning opencv-python phonemizer jiwer"
   ]
  },
  {
   "cell_type": "code",
   "execution_count": 7,
   "id": "18617e08",
   "metadata": {
    "execution": {
     "iopub.execute_input": "2024-10-23T21:19:45.563778Z",
     "iopub.status.busy": "2024-10-23T21:19:45.563419Z",
     "iopub.status.idle": "2024-10-23T21:20:03.246435Z",
     "shell.execute_reply": "2024-10-23T21:20:03.245265Z"
    },
    "papermill": {
     "duration": 17.714509,
     "end_time": "2024-10-23T21:20:03.248959",
     "exception": false,
     "start_time": "2024-10-23T21:19:45.534450",
     "status": "completed"
    },
    "tags": []
   },
   "outputs": [
    {
     "name": "stdout",
     "output_type": "stream",
     "text": [
      "Obtaining file:///kaggle/working/spectre/external/face_alignment\r\n",
      "  Preparing metadata (setup.py) ... \u001b[?25ldone\r\n",
      "\u001b[?25hRequirement already satisfied: numpy>=1.16.0 in /opt/conda/lib/python3.10/site-packages (from ibug_face_alignment==0.1.0) (1.26.4)\r\n",
      "Requirement already satisfied: torch>=1.1.0 in /opt/conda/lib/python3.10/site-packages (from ibug_face_alignment==0.1.0) (2.4.0)\r\n",
      "Requirement already satisfied: opencv-python>=3.4.2 in /opt/conda/lib/python3.10/site-packages (from ibug_face_alignment==0.1.0) (4.10.0.84)\r\n",
      "Requirement already satisfied: filelock in /opt/conda/lib/python3.10/site-packages (from torch>=1.1.0->ibug_face_alignment==0.1.0) (3.15.1)\r\n",
      "Requirement already satisfied: typing-extensions>=4.8.0 in /opt/conda/lib/python3.10/site-packages (from torch>=1.1.0->ibug_face_alignment==0.1.0) (4.12.2)\r\n",
      "Requirement already satisfied: sympy in /opt/conda/lib/python3.10/site-packages (from torch>=1.1.0->ibug_face_alignment==0.1.0) (1.13.3)\r\n",
      "Requirement already satisfied: networkx in /opt/conda/lib/python3.10/site-packages (from torch>=1.1.0->ibug_face_alignment==0.1.0) (3.3)\r\n",
      "Requirement already satisfied: jinja2 in /opt/conda/lib/python3.10/site-packages (from torch>=1.1.0->ibug_face_alignment==0.1.0) (3.1.4)\r\n",
      "Requirement already satisfied: fsspec in /opt/conda/lib/python3.10/site-packages (from torch>=1.1.0->ibug_face_alignment==0.1.0) (2024.6.1)\r\n",
      "Requirement already satisfied: MarkupSafe>=2.0 in /opt/conda/lib/python3.10/site-packages (from jinja2->torch>=1.1.0->ibug_face_alignment==0.1.0) (2.1.5)\r\n",
      "Requirement already satisfied: mpmath<1.4,>=1.1.0 in /opt/conda/lib/python3.10/site-packages (from sympy->torch>=1.1.0->ibug_face_alignment==0.1.0) (1.3.0)\r\n",
      "Installing collected packages: ibug_face_alignment\r\n",
      "  Running setup.py develop for ibug_face_alignment\r\n",
      "Successfully installed ibug_face_alignment-0.1.0\r\n"
     ]
    }
   ],
   "source": [
    "!cd /kaggle/working/spectre/external/face_alignment && pip install -e."
   ]
  },
  {
   "cell_type": "code",
   "execution_count": null,
   "id": "eb47f6b6",
   "metadata": {
    "papermill": {
     "duration": 0.02864,
     "end_time": "2024-10-23T21:20:03.306741",
     "exception": false,
     "start_time": "2024-10-23T21:20:03.278101",
     "status": "completed"
    },
    "tags": []
   },
   "outputs": [],
   "source": []
  },
  {
   "cell_type": "code",
   "execution_count": 8,
   "id": "35ed26fe",
   "metadata": {
    "execution": {
     "iopub.execute_input": "2024-10-23T21:20:03.365503Z",
     "iopub.status.busy": "2024-10-23T21:20:03.365110Z",
     "iopub.status.idle": "2024-10-23T21:20:20.304308Z",
     "shell.execute_reply": "2024-10-23T21:20:20.303160Z"
    },
    "papermill": {
     "duration": 16.971282,
     "end_time": "2024-10-23T21:20:20.306578",
     "exception": false,
     "start_time": "2024-10-23T21:20:03.335296",
     "status": "completed"
    },
    "tags": []
   },
   "outputs": [
    {
     "name": "stdout",
     "output_type": "stream",
     "text": [
      "\r\n",
      "\r\n",
      "\r\n",
      "\r\n",
      "\r\n",
      "\r\n",
      "\r\n",
      "\r\n",
      "\r\n",
      "\r\n",
      "\r\n",
      "\r\n",
      "\r\n",
      "\r\n",
      "\r\n",
      "\r\n",
      "\r\n",
      "The following packages will be upgraded:\r\n",
      "  git-lfs\r\n",
      "1 upgraded, 0 newly installed, 0 to remove and 69 not upgraded.\r\n",
      "Need to get 7420 kB of archives.\r\n",
      "After this operation, 6051 kB of additional disk space will be used.\r\n",
      "Get:1 https://packagecloud.io/github/git-lfs/ubuntu jammy/main amd64 git-lfs amd64 3.5.1 [7420 kB]\r\n",
      "Fetched 7420 kB in 0s (24.3 MB/s)\r\n",
      "(Reading database ... 122996 files and directories currently installed.)\r\n",
      "Preparing to unpack .../git-lfs_3.5.1_amd64.deb ...\r\n",
      "Unpacking git-lfs (3.5.1) over (3.0.2-1ubuntu0.2) ...\r\n",
      "Setting up git-lfs (3.5.1) ...\r\n",
      "Git LFS initialized.\r\n",
      "Processing triggers for man-db (2.10.2-1) ...\r\n"
     ]
    }
   ],
   "source": [
    "!curl -s https://packagecloud.io/install/repositories/github/git-lfs/script.deb.sh | sudo bash\n",
    "!sudo apt-get install git-lfs"
   ]
  },
  {
   "cell_type": "code",
   "execution_count": 9,
   "id": "3cd74c43",
   "metadata": {
    "execution": {
     "iopub.execute_input": "2024-10-23T21:20:20.370563Z",
     "iopub.status.busy": "2024-10-23T21:20:20.369907Z",
     "iopub.status.idle": "2024-10-23T21:20:37.096581Z",
     "shell.execute_reply": "2024-10-23T21:20:37.095501Z"
    },
    "papermill": {
     "duration": 16.761169,
     "end_time": "2024-10-23T21:20:37.099020",
     "exception": false,
     "start_time": "2024-10-23T21:20:20.337851",
     "status": "completed"
    },
    "tags": []
   },
   "outputs": [
    {
     "name": "stdout",
     "output_type": "stream",
     "text": [
      "Obtaining file:///kaggle/working/spectre/external/face_detection\r\n",
      "  Preparing metadata (setup.py) ... \u001b[?25ldone\r\n",
      "\u001b[?25hRequirement already satisfied: numpy>=1.16.0 in /opt/conda/lib/python3.10/site-packages (from ibug_face_detection==0.1.0) (1.26.4)\r\n",
      "Requirement already satisfied: scipy>=1.1.0 in /opt/conda/lib/python3.10/site-packages (from ibug_face_detection==0.1.0) (1.14.1)\r\n",
      "Requirement already satisfied: torch>=1.1.0 in /opt/conda/lib/python3.10/site-packages (from ibug_face_detection==0.1.0) (2.4.0)\r\n",
      "Requirement already satisfied: torchvision>=0.3.0 in /opt/conda/lib/python3.10/site-packages (from ibug_face_detection==0.1.0) (0.19.0)\r\n",
      "Requirement already satisfied: opencv-python>=3.4.2 in /opt/conda/lib/python3.10/site-packages (from ibug_face_detection==0.1.0) (4.10.0.84)\r\n",
      "Requirement already satisfied: filelock in /opt/conda/lib/python3.10/site-packages (from torch>=1.1.0->ibug_face_detection==0.1.0) (3.15.1)\r\n",
      "Requirement already satisfied: typing-extensions>=4.8.0 in /opt/conda/lib/python3.10/site-packages (from torch>=1.1.0->ibug_face_detection==0.1.0) (4.12.2)\r\n",
      "Requirement already satisfied: sympy in /opt/conda/lib/python3.10/site-packages (from torch>=1.1.0->ibug_face_detection==0.1.0) (1.13.3)\r\n",
      "Requirement already satisfied: networkx in /opt/conda/lib/python3.10/site-packages (from torch>=1.1.0->ibug_face_detection==0.1.0) (3.3)\r\n",
      "Requirement already satisfied: jinja2 in /opt/conda/lib/python3.10/site-packages (from torch>=1.1.0->ibug_face_detection==0.1.0) (3.1.4)\r\n",
      "Requirement already satisfied: fsspec in /opt/conda/lib/python3.10/site-packages (from torch>=1.1.0->ibug_face_detection==0.1.0) (2024.6.1)\r\n",
      "Requirement already satisfied: pillow!=8.3.*,>=5.3.0 in /opt/conda/lib/python3.10/site-packages (from torchvision>=0.3.0->ibug_face_detection==0.1.0) (10.3.0)\r\n",
      "Requirement already satisfied: MarkupSafe>=2.0 in /opt/conda/lib/python3.10/site-packages (from jinja2->torch>=1.1.0->ibug_face_detection==0.1.0) (2.1.5)\r\n",
      "Requirement already satisfied: mpmath<1.4,>=1.1.0 in /opt/conda/lib/python3.10/site-packages (from sympy->torch>=1.1.0->ibug_face_detection==0.1.0) (1.3.0)\r\n",
      "Installing collected packages: ibug_face_detection\r\n",
      "  Running setup.py develop for ibug_face_detection\r\n",
      "Successfully installed ibug_face_detection-0.1.0\r\n"
     ]
    }
   ],
   "source": [
    "!cd /kaggle/working/spectre/external/face_detection && git lfs pull && pip install -e ."
   ]
  },
  {
   "cell_type": "code",
   "execution_count": null,
   "id": "f898f309",
   "metadata": {
    "papermill": {
     "duration": 0.031957,
     "end_time": "2024-10-23T21:20:37.165906",
     "exception": false,
     "start_time": "2024-10-23T21:20:37.133949",
     "status": "completed"
    },
    "tags": []
   },
   "outputs": [],
   "source": []
  },
  {
   "cell_type": "code",
   "execution_count": 10,
   "id": "15e1e3db",
   "metadata": {
    "execution": {
     "iopub.execute_input": "2024-10-23T21:20:37.231378Z",
     "iopub.status.busy": "2024-10-23T21:20:37.231004Z",
     "iopub.status.idle": "2024-10-23T21:20:37.235427Z",
     "shell.execute_reply": "2024-10-23T21:20:37.234673Z"
    },
    "papermill": {
     "duration": 0.040006,
     "end_time": "2024-10-23T21:20:37.237387",
     "exception": false,
     "start_time": "2024-10-23T21:20:37.197381",
     "status": "completed"
    },
    "tags": []
   },
   "outputs": [],
   "source": [
    "# !git lfs pull"
   ]
  },
  {
   "cell_type": "code",
   "execution_count": 11,
   "id": "03726b8e",
   "metadata": {
    "execution": {
     "iopub.execute_input": "2024-10-23T21:20:37.301102Z",
     "iopub.status.busy": "2024-10-23T21:20:37.300771Z",
     "iopub.status.idle": "2024-10-23T21:20:37.304561Z",
     "shell.execute_reply": "2024-10-23T21:20:37.303761Z"
    },
    "papermill": {
     "duration": 0.037684,
     "end_time": "2024-10-23T21:20:37.306360",
     "exception": false,
     "start_time": "2024-10-23T21:20:37.268676",
     "status": "completed"
    },
    "tags": []
   },
   "outputs": [],
   "source": [
    "# pip install -r requirements.txt"
   ]
  },
  {
   "cell_type": "code",
   "execution_count": null,
   "id": "c965c7aa",
   "metadata": {
    "papermill": {
     "duration": 0.031711,
     "end_time": "2024-10-23T21:20:37.369527",
     "exception": false,
     "start_time": "2024-10-23T21:20:37.337816",
     "status": "completed"
    },
    "tags": []
   },
   "outputs": [],
   "source": [
    "\n"
   ]
  },
  {
   "cell_type": "code",
   "execution_count": 12,
   "id": "0c73b16d",
   "metadata": {
    "execution": {
     "iopub.execute_input": "2024-10-23T21:20:37.433160Z",
     "iopub.status.busy": "2024-10-23T21:20:37.432840Z",
     "iopub.status.idle": "2024-10-23T21:20:50.124813Z",
     "shell.execute_reply": "2024-10-23T21:20:50.123674Z"
    },
    "papermill": {
     "duration": 12.726069,
     "end_time": "2024-10-23T21:20:50.126987",
     "exception": false,
     "start_time": "2024-10-23T21:20:37.400918",
     "status": "completed"
    },
    "tags": []
   },
   "outputs": [
    {
     "name": "stdout",
     "output_type": "stream",
     "text": [
      "Collecting gdown\r\n",
      "  Downloading gdown-5.2.0-py3-none-any.whl.metadata (5.8 kB)\r\n",
      "Requirement already satisfied: beautifulsoup4 in /opt/conda/lib/python3.10/site-packages (from gdown) (4.12.3)\r\n",
      "Requirement already satisfied: filelock in /opt/conda/lib/python3.10/site-packages (from gdown) (3.15.1)\r\n",
      "Requirement already satisfied: requests[socks] in /opt/conda/lib/python3.10/site-packages (from gdown) (2.32.3)\r\n",
      "Requirement already satisfied: tqdm in /opt/conda/lib/python3.10/site-packages (from gdown) (4.66.4)\r\n",
      "Requirement already satisfied: soupsieve>1.2 in /opt/conda/lib/python3.10/site-packages (from beautifulsoup4->gdown) (2.5)\r\n",
      "Requirement already satisfied: charset-normalizer<4,>=2 in /opt/conda/lib/python3.10/site-packages (from requests[socks]->gdown) (3.3.2)\r\n",
      "Requirement already satisfied: idna<4,>=2.5 in /opt/conda/lib/python3.10/site-packages (from requests[socks]->gdown) (3.7)\r\n",
      "Requirement already satisfied: urllib3<3,>=1.21.1 in /opt/conda/lib/python3.10/site-packages (from requests[socks]->gdown) (1.26.18)\r\n",
      "Requirement already satisfied: certifi>=2017.4.17 in /opt/conda/lib/python3.10/site-packages (from requests[socks]->gdown) (2024.8.30)\r\n",
      "Requirement already satisfied: PySocks!=1.5.7,>=1.5.6 in /opt/conda/lib/python3.10/site-packages (from requests[socks]->gdown) (1.7.1)\r\n",
      "Downloading gdown-5.2.0-py3-none-any.whl (18 kB)\r\n",
      "Installing collected packages: gdown\r\n",
      "Successfully installed gdown-5.2.0\r\n",
      "/kaggle/working/spectre\r\n"
     ]
    }
   ],
   "source": [
    "\n",
    "!pip install gdown\n",
    "!pwd"
   ]
  },
  {
   "cell_type": "code",
   "execution_count": 13,
   "id": "755fb36b",
   "metadata": {
    "execution": {
     "iopub.execute_input": "2024-10-23T21:20:50.198774Z",
     "iopub.status.busy": "2024-10-23T21:20:50.198366Z",
     "iopub.status.idle": "2024-10-23T21:20:50.205127Z",
     "shell.execute_reply": "2024-10-23T21:20:50.204199Z"
    },
    "papermill": {
     "duration": 0.046939,
     "end_time": "2024-10-23T21:20:50.207743",
     "exception": false,
     "start_time": "2024-10-23T21:20:50.160804",
     "status": "completed"
    },
    "tags": []
   },
   "outputs": [
    {
     "name": "stdout",
     "output_type": "stream",
     "text": [
      "/kaggle\n"
     ]
    }
   ],
   "source": [
    "cd ../../"
   ]
  },
  {
   "cell_type": "code",
   "execution_count": 14,
   "id": "74bd5580",
   "metadata": {
    "execution": {
     "iopub.execute_input": "2024-10-23T21:20:50.282795Z",
     "iopub.status.busy": "2024-10-23T21:20:50.282500Z",
     "iopub.status.idle": "2024-10-23T21:20:51.253863Z",
     "shell.execute_reply": "2024-10-23T21:20:51.252755Z"
    },
    "papermill": {
     "duration": 1.006582,
     "end_time": "2024-10-23T21:20:51.255977",
     "exception": false,
     "start_time": "2024-10-23T21:20:50.249395",
     "status": "completed"
    },
    "tags": []
   },
   "outputs": [
    {
     "name": "stdout",
     "output_type": "stream",
     "text": [
      "fatal: not a git repository (or any of the parent directories): .git\r\n"
     ]
    }
   ],
   "source": [
    "!git pull"
   ]
  },
  {
   "cell_type": "code",
   "execution_count": 15,
   "id": "1a43fb7d",
   "metadata": {
    "execution": {
     "iopub.execute_input": "2024-10-23T21:20:51.321439Z",
     "iopub.status.busy": "2024-10-23T21:20:51.321102Z",
     "iopub.status.idle": "2024-10-23T21:20:52.295505Z",
     "shell.execute_reply": "2024-10-23T21:20:52.294591Z"
    },
    "papermill": {
     "duration": 1.009405,
     "end_time": "2024-10-23T21:20:52.297508",
     "exception": false,
     "start_time": "2024-10-23T21:20:51.288103",
     "status": "completed"
    },
    "tags": []
   },
   "outputs": [
    {
     "name": "stdout",
     "output_type": "stream",
     "text": [
      "bash: quick_install.sh: No such file or directory\r\n"
     ]
    }
   ],
   "source": [
    "!bash quick_install.sh \"niwantsalunke308@gmail.com\" \"Bat#ball123\" "
   ]
  },
  {
   "cell_type": "code",
   "execution_count": 16,
   "id": "5531d0f5",
   "metadata": {
    "execution": {
     "iopub.execute_input": "2024-10-23T21:20:52.363299Z",
     "iopub.status.busy": "2024-10-23T21:20:52.362955Z",
     "iopub.status.idle": "2024-10-23T21:21:03.910660Z",
     "shell.execute_reply": "2024-10-23T21:21:03.909231Z"
    },
    "papermill": {
     "duration": 11.58284,
     "end_time": "2024-10-23T21:21:03.912829",
     "exception": false,
     "start_time": "2024-10-23T21:20:52.329989",
     "status": "completed"
    },
    "tags": []
   },
   "outputs": [
    {
     "name": "stdout",
     "output_type": "stream",
     "text": [
      "Requirement already satisfied: yacs in /opt/conda/lib/python3.10/site-packages (0.1.8)\r\n",
      "Requirement already satisfied: PyYAML in /opt/conda/lib/python3.10/site-packages (from yacs) (6.0.2)\r\n",
      "Note: you may need to restart the kernel to use updated packages.\n"
     ]
    }
   ],
   "source": [
    "pip install yacs"
   ]
  },
  {
   "cell_type": "code",
   "execution_count": 17,
   "id": "8cf0f1b2",
   "metadata": {
    "execution": {
     "iopub.execute_input": "2024-10-23T21:21:03.979668Z",
     "iopub.status.busy": "2024-10-23T21:21:03.979295Z",
     "iopub.status.idle": "2024-10-23T21:21:05.050034Z",
     "shell.execute_reply": "2024-10-23T21:21:05.049102Z"
    },
    "papermill": {
     "duration": 1.106628,
     "end_time": "2024-10-23T21:21:05.052280",
     "exception": false,
     "start_time": "2024-10-23T21:21:03.945652",
     "status": "completed"
    },
    "tags": []
   },
   "outputs": [
    {
     "name": "stdout",
     "output_type": "stream",
     "text": [
      "python: can't open file '/kaggle/demo.py': [Errno 2] No such file or directory\r\n"
     ]
    }
   ],
   "source": [
    "!python demo.py --input samples/LRS3/0Fi83BHQsMA_00002.mp4 "
   ]
  },
  {
   "cell_type": "code",
   "execution_count": null,
   "id": "33cd748d",
   "metadata": {
    "papermill": {
     "duration": 0.032664,
     "end_time": "2024-10-23T21:21:05.117890",
     "exception": false,
     "start_time": "2024-10-23T21:21:05.085226",
     "status": "completed"
    },
    "tags": []
   },
   "outputs": [],
   "source": []
  },
  {
   "cell_type": "code",
   "execution_count": 18,
   "id": "4d9718c2",
   "metadata": {
    "execution": {
     "iopub.execute_input": "2024-10-23T21:21:05.184975Z",
     "iopub.status.busy": "2024-10-23T21:21:05.184635Z",
     "iopub.status.idle": "2024-10-23T21:21:05.189104Z",
     "shell.execute_reply": "2024-10-23T21:21:05.188209Z"
    },
    "papermill": {
     "duration": 0.040387,
     "end_time": "2024-10-23T21:21:05.191048",
     "exception": false,
     "start_time": "2024-10-23T21:21:05.150661",
     "status": "completed"
    },
    "tags": []
   },
   "outputs": [],
   "source": [
    "# import sys\n",
    "# import torch\n",
    "# pyt_version_str=torch.__version__.split(\"+\")[0].replace(\".\", \"\")\n",
    "# version_str=\"\".join([\n",
    "#     f\"py3{sys.version_info.minor}_cu\",\n",
    "#     torch.version.cuda.replace(\".\",\"\"),\n",
    "#     f\"_pyt{pyt_version_str}\"\n",
    "# ])\n",
    "# !pip install iopath\n",
    "# !pip install --no-index --no-cache-dir pytorch3d -f https://dl.fbaipublicfiles.com/pytorch3d/packaging/wheels/{version_str}/download.html"
   ]
  },
  {
   "cell_type": "code",
   "execution_count": 19,
   "id": "00b9b646",
   "metadata": {
    "execution": {
     "iopub.execute_input": "2024-10-23T21:21:05.258155Z",
     "iopub.status.busy": "2024-10-23T21:21:05.257838Z",
     "iopub.status.idle": "2024-10-23T21:21:05.261723Z",
     "shell.execute_reply": "2024-10-23T21:21:05.260908Z"
    },
    "papermill": {
     "duration": 0.039226,
     "end_time": "2024-10-23T21:21:05.263602",
     "exception": false,
     "start_time": "2024-10-23T21:21:05.224376",
     "status": "completed"
    },
    "tags": []
   },
   "outputs": [],
   "source": [
    "# cd /kaggle/working/spectre/external/Visual_Speech_Recognition_for_Multiple_Languages"
   ]
  },
  {
   "cell_type": "code",
   "execution_count": 20,
   "id": "6cbab5c0",
   "metadata": {
    "execution": {
     "iopub.execute_input": "2024-10-23T21:21:05.330465Z",
     "iopub.status.busy": "2024-10-23T21:21:05.329977Z",
     "iopub.status.idle": "2024-10-23T21:21:05.333679Z",
     "shell.execute_reply": "2024-10-23T21:21:05.332887Z"
    },
    "papermill": {
     "duration": 0.039313,
     "end_time": "2024-10-23T21:21:05.335544",
     "exception": false,
     "start_time": "2024-10-23T21:21:05.296231",
     "status": "completed"
    },
    "tags": []
   },
   "outputs": [],
   "source": [
    "# !pip install -r requirements.txt"
   ]
  },
  {
   "cell_type": "code",
   "execution_count": 21,
   "id": "1437cbab",
   "metadata": {
    "execution": {
     "iopub.execute_input": "2024-10-23T21:21:05.401478Z",
     "iopub.status.busy": "2024-10-23T21:21:05.400796Z",
     "iopub.status.idle": "2024-10-23T21:21:05.404404Z",
     "shell.execute_reply": "2024-10-23T21:21:05.403649Z"
    },
    "papermill": {
     "duration": 0.038568,
     "end_time": "2024-10-23T21:21:05.406233",
     "exception": false,
     "start_time": "2024-10-23T21:21:05.367665",
     "status": "completed"
    },
    "tags": []
   },
   "outputs": [],
   "source": [
    "# cd ../../"
   ]
  },
  {
   "cell_type": "code",
   "execution_count": null,
   "id": "36ed16d8",
   "metadata": {
    "papermill": {
     "duration": 0.031934,
     "end_time": "2024-10-23T21:21:05.470556",
     "exception": false,
     "start_time": "2024-10-23T21:21:05.438622",
     "status": "completed"
    },
    "tags": []
   },
   "outputs": [],
   "source": []
  }
 ],
 "metadata": {
  "kaggle": {
   "accelerator": "gpu",
   "dataSources": [
    {
     "isSourceIdPinned": true,
     "modelId": 131529,
     "modelInstanceId": 107182,
     "sourceId": 127302,
     "sourceType": "modelInstanceVersion"
    }
   ],
   "isGpuEnabled": true,
   "isInternetEnabled": true,
   "language": "python",
   "sourceType": "notebook"
  },
  "kernelspec": {
   "display_name": "Python 3",
   "language": "python",
   "name": "python3"
  },
  "language_info": {
   "codemirror_mode": {
    "name": "ipython",
    "version": 3
   },
   "file_extension": ".py",
   "mimetype": "text/x-python",
   "name": "python",
   "nbconvert_exporter": "python",
   "pygments_lexer": "ipython3",
   "version": "3.10.14"
  },
  "papermill": {
   "default_parameters": {},
   "duration": 802.99844,
   "end_time": "2024-10-23T21:21:05.820361",
   "environment_variables": {},
   "exception": null,
   "input_path": "__notebook__.ipynb",
   "output_path": "__notebook__.ipynb",
   "parameters": {},
   "start_time": "2024-10-23T21:07:42.821921",
   "version": "2.6.0"
  }
 },
 "nbformat": 4,
 "nbformat_minor": 5
}
