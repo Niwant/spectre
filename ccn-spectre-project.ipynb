{
 "cells": [
  {
   "cell_type": "raw",
   "id": "2328c5a2",
   "metadata": {
    "_cell_guid": "b1076dfc-b9ad-4769-8c92-a6c4dae69d19",
    "_uuid": "8f2839f25d086af736a60e9eeb907d3b93b6e0e5",
    "papermill": {
     "duration": 0.006196,
     "end_time": "2024-10-05T00:21:58.122288",
     "exception": false,
     "start_time": "2024-10-05T00:21:58.116092",
     "status": "completed"
    },
    "tags": []
   },
   "source": [
    "# This Python 3 environment comes with many helpful analytics libraries installed\n",
    "# It is defined by the kaggle/python Docker image: https://github.com/kaggle/docker-python\n",
    "# For example, here's several helpful packages to load\n",
    "\n",
    "import numpy as np # linear algebra\n",
    "import pandas as pd # data processing, CSV file I/O (e.g. pd.read_csv)\n",
    "\n",
    "# Input data files are available in the read-only \"../input/\" directory\n",
    "# For example, running this (by clicking run or pressing Shift+Enter) will list all files under the input directory\n",
    "\n",
    "import os\n",
    "for dirname, _, filenames in os.walk('/kaggle/input'):\n",
    "    for filename in filenames:\n",
    "        print(os.path.join(dirname, filename))\n",
    "\n",
    "# You can write up to 20GB to the current directory (/kaggle/working/) that gets preserved as output when you create a version using \"Save & Run All\" \n",
    "# You can also write temporary files to /kaggle/temp/, but they won't be saved outside of the current session"
   ]
  },
  {
   "cell_type": "code",
   "execution_count": 1,
   "id": "bd78386e",
   "metadata": {
    "execution": {
     "iopub.execute_input": "2024-10-05T00:21:58.135387Z",
     "iopub.status.busy": "2024-10-05T00:21:58.134913Z",
     "iopub.status.idle": "2024-10-05T00:22:19.760021Z",
     "shell.execute_reply": "2024-10-05T00:22:19.758552Z"
    },
    "papermill": {
     "duration": 21.63498,
     "end_time": "2024-10-05T00:22:19.763060",
     "exception": false,
     "start_time": "2024-10-05T00:21:58.128080",
     "status": "completed"
    },
    "tags": []
   },
   "outputs": [
    {
     "name": "stdout",
     "output_type": "stream",
     "text": [
      "Cloning into 'spectre'...\r\n",
      "remote: Enumerating objects: 248, done.\u001b[K\r\n",
      "remote: Counting objects: 100% (248/248), done.\u001b[K\r\n",
      "remote: Compressing objects: 100% (181/181), done.\u001b[K\r\n",
      "remote: Total 248 (delta 123), reused 173 (delta 63), pack-reused 0 (from 0)\u001b[K\r\n",
      "Receiving objects: 100% (248/248), 17.45 MiB | 26.43 MiB/s, done.\r\n",
      "Resolving deltas: 100% (123/123), done.\r\n",
      "Submodule 'external/Visual_Speech_Recognition_for_Multiple_Languages' (https://github.com/mpc001/Visual_Speech_Recognition_for_Multiple_Languages) registered for path 'external/Visual_Speech_Recognition_for_Multiple_Languages'\r\n",
      "Submodule 'external/av_hubert' (https://github.com/facebookresearch/av_hubert) registered for path 'external/av_hubert'\r\n",
      "Submodule 'external/face_alignment' (https://github.com/hhj1897/face_alignment.git) registered for path 'external/face_alignment'\r\n",
      "Submodule 'external/face_detection' (https://github.com/hhj1897/face_detection) registered for path 'external/face_detection'\r\n",
      "Cloning into '/kaggle/working/spectre/external/Visual_Speech_Recognition_for_Multiple_Languages'...\r\n",
      "remote: Enumerating objects: 277, done.        \r\n",
      "remote: Counting objects: 100% (26/26), done.        \r\n",
      "remote: Compressing objects: 100% (14/14), done.        \r\n",
      "remote: Total 277 (delta 14), reused 12 (delta 12), pack-reused 251 (from 1)        \r\n",
      "Receiving objects: 100% (277/277), 69.76 MiB | 18.32 MiB/s, done.\r\n",
      "Resolving deltas: 100% (69/69), done.\r\n",
      "Cloning into '/kaggle/working/spectre/external/av_hubert'...\r\n",
      "remote: Enumerating objects: 149, done.        \r\n",
      "remote: Counting objects: 100% (38/38), done.        \r\n",
      "remote: Compressing objects: 100% (24/24), done.        \r\n",
      "remote: Total 149 (delta 18), reused 22 (delta 14), pack-reused 111 (from 1)        \r\n",
      "Receiving objects: 100% (149/149), 4.65 MiB | 18.44 MiB/s, done.\r\n",
      "Resolving deltas: 100% (64/64), done.\r\n",
      "Cloning into '/kaggle/working/spectre/external/face_alignment'...\r\n",
      "remote: Enumerating objects: 190, done.        \r\n",
      "remote: Counting objects: 100% (32/32), done.        \r\n",
      "remote: Compressing objects: 100% (6/6), done.        \r\n",
      "remote: Total 190 (delta 27), reused 27 (delta 26), pack-reused 158 (from 1)        \r\n",
      "Receiving objects: 100% (190/190), 213.82 MiB | 26.18 MiB/s, done.\r\n",
      "Resolving deltas: 100% (84/84), done.\r\n",
      "Cloning into '/kaggle/working/spectre/external/face_detection'...\r\n",
      "remote: Enumerating objects: 300, done.        \r\n",
      "remote: Counting objects: 100% (50/50), done.        \r\n",
      "remote: Compressing objects: 100% (11/11), done.        \r\n",
      "remote: Total 300 (delta 41), reused 39 (delta 39), pack-reused 250 (from 1)        \r\n",
      "Receiving objects: 100% (300/300), 81.19 MiB | 19.66 MiB/s, done.\r\n",
      "Resolving deltas: 100% (141/141), done.\r\n",
      "Submodule path 'external/Visual_Speech_Recognition_for_Multiple_Languages': checked out '53e940ee3d4bab5e5a69276ac0a7a68047c5ab8d'\r\n",
      "Submodule path 'external/av_hubert': checked out 'cd1fd24e71b18f5c1a7203aec6ce4479a61e7e67'\r\n",
      "Submodule 'fairseq' (https://github.com/pytorch/fairseq) registered for path 'external/av_hubert/fairseq'\r\n",
      "Cloning into '/kaggle/working/spectre/external/av_hubert/fairseq'...\r\n",
      "remote: Enumerating objects: 35379, done.        \r\n",
      "remote: Counting objects: 100% (42/42), done.        \r\n",
      "remote: Compressing objects: 100% (30/30), done.        \r\n",
      "remote: Total 35379 (delta 9), reused 33 (delta 9), pack-reused 35337 (from 1)        \r\n",
      "Receiving objects: 100% (35379/35379), 25.47 MiB | 24.56 MiB/s, done.\r\n",
      "Resolving deltas: 100% (25538/25538), done.\r\n",
      "Submodule path 'external/av_hubert/fairseq': checked out 'afc77bdf4bb51453ce76f1572ef2ee6ddcda8eeb'\r\n",
      "Submodule 'fairseq/model_parallel/megatron' (https://github.com/ngoyal2707/Megatron-LM) registered for path 'external/av_hubert/fairseq/fairseq/model_parallel/megatron'\r\n",
      "Cloning into '/kaggle/working/spectre/external/av_hubert/fairseq/fairseq/model_parallel/megatron'...\r\n",
      "remote: Enumerating objects: 8394, done.        \r\n",
      "remote: Total 8394 (delta 0), reused 0 (delta 0), pack-reused 8394 (from 1)        \r\n",
      "Receiving objects: 100% (8394/8394), 2.92 MiB | 10.76 MiB/s, done.\r\n",
      "Resolving deltas: 100% (6335/6335), done.\r\n",
      "remote: Enumerating objects: 8, done.\u001b[K\r\n",
      "remote: Counting objects: 100% (6/6), done.\u001b[K\r\n",
      "remote: Total 8 (delta 6), reused 6 (delta 6), pack-reused 2 (from 1)\u001b[K\r\n",
      "Unpacking objects: 100% (8/8), 1.85 KiB | 473.00 KiB/s, done.\r\n",
      "From https://github.com/ngoyal2707/Megatron-LM\r\n",
      " * branch            adb23324c222aad0aad89308e70302d996a5eaeb -> FETCH_HEAD\r\n",
      "Submodule path 'external/av_hubert/fairseq/fairseq/model_parallel/megatron': checked out 'adb23324c222aad0aad89308e70302d996a5eaeb'\r\n",
      "Submodule path 'external/face_alignment': checked out '9cf5494e443f26d567972f3f50f6212d65b76c01'\r\n",
      "Submodule path 'external/face_detection': checked out '71852f00b815f568f3b51f045a418ae84cbe162a'\r\n"
     ]
    }
   ],
   "source": [
    "!git clone --recurse-submodules -j4 https://github.com/Niwant/spectre.git\n"
   ]
  },
  {
   "cell_type": "code",
   "execution_count": 2,
   "id": "401d6fbe",
   "metadata": {
    "execution": {
     "iopub.execute_input": "2024-10-05T00:22:19.798402Z",
     "iopub.status.busy": "2024-10-05T00:22:19.797893Z",
     "iopub.status.idle": "2024-10-05T00:22:19.806651Z",
     "shell.execute_reply": "2024-10-05T00:22:19.805399Z"
    },
    "papermill": {
     "duration": 0.029295,
     "end_time": "2024-10-05T00:22:19.809070",
     "exception": false,
     "start_time": "2024-10-05T00:22:19.779775",
     "status": "completed"
    },
    "tags": []
   },
   "outputs": [
    {
     "name": "stdout",
     "output_type": "stream",
     "text": [
      "/kaggle/working/spectre\n"
     ]
    }
   ],
   "source": [
    "cd /kaggle/working/spectre/"
   ]
  },
  {
   "cell_type": "code",
   "execution_count": 3,
   "id": "c0a2d90a",
   "metadata": {
    "execution": {
     "iopub.execute_input": "2024-10-05T00:22:19.844190Z",
     "iopub.status.busy": "2024-10-05T00:22:19.843250Z",
     "iopub.status.idle": "2024-10-05T00:22:20.991962Z",
     "shell.execute_reply": "2024-10-05T00:22:20.990621Z"
    },
    "papermill": {
     "duration": 1.169647,
     "end_time": "2024-10-05T00:22:20.994821",
     "exception": false,
     "start_time": "2024-10-05T00:22:19.825174",
     "status": "completed"
    },
    "tags": []
   },
   "outputs": [
    {
     "name": "stdout",
     "output_type": "stream",
     "text": [
      "total 1408\r\n",
      "drwxr-xr-x 10 root root    4096 Oct  5 00:22 \u001b[0m\u001b[01;34m.\u001b[0m/\r\n",
      "drwxr-xr-x  3 root root    4096 Oct  5 00:21 \u001b[01;34m..\u001b[0m/\r\n",
      "drwxr-xr-x  9 root root    4096 Oct  5 00:22 \u001b[01;34m.git\u001b[0m/\r\n",
      "-rw-r--r--  1 root root     669 Oct  5 00:22 .gitignore\r\n",
      "-rw-r--r--  1 root root     575 Oct  5 00:22 .gitmodules\r\n",
      "-rw-r--r--  1 root root   20849 Oct  5 00:22 LICENSE\r\n",
      "-rw-r--r--  1 root root    5850 Oct  5 00:22 README.md\r\n",
      "-rw-r--r--  1 root root       0 Oct  5 00:22 __init__.py\r\n",
      "-rw-r--r--  1 root root    6976 Oct  5 00:22 config.py\r\n",
      "drwxr-xr-x  2 root root    4096 Oct  5 00:22 \u001b[01;34mconfigs\u001b[0m/\r\n",
      "-rw-r--r--  1 root root 1321519 Oct  5 00:22 cover.png\r\n",
      "drwxr-xr-x  2 root root    4096 Oct  5 00:22 \u001b[01;34mdata\u001b[0m/\r\n",
      "drwxr-xr-x  2 root root    4096 Oct  5 00:22 \u001b[01;34mdatasets\u001b[0m/\r\n",
      "-rw-r--r--  1 root root    9817 Oct  5 00:22 demo.py\r\n",
      "drwxr-xr-x  6 root root    4096 Oct  5 00:22 \u001b[01;34mexternal\u001b[0m/\r\n",
      "-rw-r--r--  1 root root    1878 Oct  5 00:22 get_training_data.sh\r\n",
      "-rw-r--r--  1 root root    1172 Oct  5 00:22 main.py\r\n",
      "-rw-r--r--  1 root root    1025 Oct  5 00:22 quick_install.sh\r\n",
      "-rw-r--r--  1 root root     183 Oct  5 00:22 requirements.txt\r\n",
      "drwxr-xr-x  5 root root    4096 Oct  5 00:22 \u001b[01;34msamples\u001b[0m/\r\n",
      "drwxr-xr-x  4 root root    4096 Oct  5 00:22 \u001b[01;34msrc\u001b[0m/\r\n",
      "drwxr-xr-x  2 root root    4096 Oct  5 00:22 \u001b[01;34mutils\u001b[0m/\r\n"
     ]
    }
   ],
   "source": [
    "ls -la"
   ]
  },
  {
   "cell_type": "code",
   "execution_count": 4,
   "id": "a785d5cb",
   "metadata": {
    "execution": {
     "iopub.execute_input": "2024-10-05T00:22:21.030967Z",
     "iopub.status.busy": "2024-10-05T00:22:21.029786Z",
     "iopub.status.idle": "2024-10-05T00:23:27.292095Z",
     "shell.execute_reply": "2024-10-05T00:23:27.290667Z"
    },
    "papermill": {
     "duration": 66.284089,
     "end_time": "2024-10-05T00:23:27.295021",
     "exception": false,
     "start_time": "2024-10-05T00:22:21.010932",
     "status": "completed"
    },
    "tags": []
   },
   "outputs": [
    {
     "name": "stdout",
     "output_type": "stream",
     "text": [
      "Collecting scikit_image==0.19.3 (from -r requirements.txt (line 1))\r\n",
      "  Downloading scikit_image-0.19.3-cp310-cp310-manylinux_2_17_x86_64.manylinux2014_x86_64.whl.metadata (8.0 kB)\r\n",
      "Collecting kornia==0.6.6 (from -r requirements.txt (line 2))\r\n",
      "  Downloading kornia-0.6.6-py2.py3-none-any.whl.metadata (12 kB)\r\n",
      "Collecting chumpy==0.70 (from -r requirements.txt (line 3))\r\n",
      "  Downloading chumpy-0.70.tar.gz (50 kB)\r\n",
      "\u001b[2K     \u001b[90m━━━━━━━━━━━━━━━━━━━━━━━━━━━━━━━━━━━━━━━━\u001b[0m \u001b[32m50.6/50.6 kB\u001b[0m \u001b[31m1.1 MB/s\u001b[0m eta \u001b[36m0:00:00\u001b[0m\r\n",
      "\u001b[?25h  Preparing metadata (setup.py) ... \u001b[?25l-\b \bdone\r\n",
      "\u001b[?25hCollecting librosa==0.9.2 (from -r requirements.txt (line 4))\r\n",
      "  Downloading librosa-0.9.2-py3-none-any.whl.metadata (8.2 kB)\r\n",
      "Collecting av==9.2.0 (from -r requirements.txt (line 5))\r\n",
      "  Downloading av-9.2.0-cp310-cp310-manylinux_2_17_x86_64.manylinux2014_x86_64.whl.metadata (4.5 kB)\r\n",
      "Collecting loguru==0.6.0 (from -r requirements.txt (line 6))\r\n",
      "  Downloading loguru-0.6.0-py3-none-any.whl.metadata (21 kB)\r\n",
      "Collecting tensorboard==2.9.1 (from -r requirements.txt (line 7))\r\n",
      "  Downloading tensorboard-2.9.1-py3-none-any.whl.metadata (1.9 kB)\r\n",
      "Collecting pytorch_lightning==1.5 (from -r requirements.txt (line 8))\r\n",
      "  Downloading pytorch_lightning-1.5.0-py3-none-any.whl.metadata (31 kB)\r\n",
      "Collecting opencv-python==4.6.0.66 (from -r requirements.txt (line 9))\r\n",
      "  Downloading opencv_python-4.6.0.66-cp36-abi3-manylinux_2_17_x86_64.manylinux2014_x86_64.whl.metadata (18 kB)\r\n",
      "Collecting phonemizer==3.2.1 (from -r requirements.txt (line 10))\r\n",
      "  Downloading phonemizer-3.2.1-py3-none-any.whl.metadata (7.4 kB)\r\n",
      "Collecting jiwer==2.3.0 (from -r requirements.txt (line 11))\r\n",
      "  Downloading jiwer-2.3.0-py3-none-any.whl.metadata (10 kB)\r\n",
      "Requirement already satisfied: numpy>=1.17.0 in /opt/conda/lib/python3.10/site-packages (from scikit_image==0.19.3->-r requirements.txt (line 1)) (1.26.4)\r\n",
      "Requirement already satisfied: scipy>=1.4.1 in /opt/conda/lib/python3.10/site-packages (from scikit_image==0.19.3->-r requirements.txt (line 1)) (1.14.1)\r\n",
      "Requirement already satisfied: networkx>=2.2 in /opt/conda/lib/python3.10/site-packages (from scikit_image==0.19.3->-r requirements.txt (line 1)) (3.3)\r\n",
      "Requirement already satisfied: pillow!=7.1.0,!=7.1.1,!=8.3.0,>=6.1.0 in /opt/conda/lib/python3.10/site-packages (from scikit_image==0.19.3->-r requirements.txt (line 1)) (10.3.0)\r\n",
      "Requirement already satisfied: imageio>=2.4.1 in /opt/conda/lib/python3.10/site-packages (from scikit_image==0.19.3->-r requirements.txt (line 1)) (2.34.1)\r\n",
      "Requirement already satisfied: tifffile>=2019.7.26 in /opt/conda/lib/python3.10/site-packages (from scikit_image==0.19.3->-r requirements.txt (line 1)) (2024.5.22)\r\n",
      "Requirement already satisfied: PyWavelets>=1.1.1 in /opt/conda/lib/python3.10/site-packages (from scikit_image==0.19.3->-r requirements.txt (line 1)) (1.6.0)\r\n",
      "Requirement already satisfied: packaging>=20.0 in /opt/conda/lib/python3.10/site-packages (from scikit_image==0.19.3->-r requirements.txt (line 1)) (21.3)\r\n",
      "Requirement already satisfied: torch>=1.8.1 in /opt/conda/lib/python3.10/site-packages (from kornia==0.6.6->-r requirements.txt (line 2)) (2.4.0+cpu)\r\n",
      "Requirement already satisfied: six>=1.11.0 in /opt/conda/lib/python3.10/site-packages (from chumpy==0.70->-r requirements.txt (line 3)) (1.16.0)\r\n",
      "Requirement already satisfied: audioread>=2.1.9 in /opt/conda/lib/python3.10/site-packages (from librosa==0.9.2->-r requirements.txt (line 4)) (3.0.1)\r\n",
      "Requirement already satisfied: scikit-learn>=0.19.1 in /opt/conda/lib/python3.10/site-packages (from librosa==0.9.2->-r requirements.txt (line 4)) (1.2.2)\r\n",
      "Requirement already satisfied: joblib>=0.14 in /opt/conda/lib/python3.10/site-packages (from librosa==0.9.2->-r requirements.txt (line 4)) (1.4.2)\r\n",
      "Requirement already satisfied: decorator>=4.0.10 in /opt/conda/lib/python3.10/site-packages (from librosa==0.9.2->-r requirements.txt (line 4)) (5.1.1)\r\n",
      "Collecting resampy>=0.2.2 (from librosa==0.9.2->-r requirements.txt (line 4))\r\n",
      "  Downloading resampy-0.4.3-py3-none-any.whl.metadata (3.0 kB)\r\n",
      "Requirement already satisfied: numba>=0.45.1 in /opt/conda/lib/python3.10/site-packages (from librosa==0.9.2->-r requirements.txt (line 4)) (0.60.0)\r\n",
      "Requirement already satisfied: soundfile>=0.10.2 in /opt/conda/lib/python3.10/site-packages (from librosa==0.9.2->-r requirements.txt (line 4)) (0.12.1)\r\n",
      "Requirement already satisfied: pooch>=1.0 in /opt/conda/lib/python3.10/site-packages (from librosa==0.9.2->-r requirements.txt (line 4)) (1.8.2)\r\n",
      "Requirement already satisfied: absl-py>=0.4 in /opt/conda/lib/python3.10/site-packages (from tensorboard==2.9.1->-r requirements.txt (line 7)) (1.4.0)\r\n",
      "Requirement already satisfied: grpcio>=1.24.3 in /opt/conda/lib/python3.10/site-packages (from tensorboard==2.9.1->-r requirements.txt (line 7)) (1.64.1)\r\n",
      "Requirement already satisfied: google-auth<3,>=1.6.3 in /opt/conda/lib/python3.10/site-packages (from tensorboard==2.9.1->-r requirements.txt (line 7)) (2.30.0)\r\n",
      "Collecting google-auth-oauthlib<0.5,>=0.4.1 (from tensorboard==2.9.1->-r requirements.txt (line 7))\r\n",
      "  Downloading google_auth_oauthlib-0.4.6-py2.py3-none-any.whl.metadata (2.7 kB)\r\n",
      "Requirement already satisfied: markdown>=2.6.8 in /opt/conda/lib/python3.10/site-packages (from tensorboard==2.9.1->-r requirements.txt (line 7)) (3.6)\r\n",
      "Collecting protobuf<3.20,>=3.9.2 (from tensorboard==2.9.1->-r requirements.txt (line 7))\r\n",
      "  Downloading protobuf-3.19.6-cp310-cp310-manylinux_2_17_x86_64.manylinux2014_x86_64.whl.metadata (787 bytes)\r\n",
      "Requirement already satisfied: requests<3,>=2.21.0 in /opt/conda/lib/python3.10/site-packages (from tensorboard==2.9.1->-r requirements.txt (line 7)) (2.32.3)\r\n",
      "Requirement already satisfied: setuptools>=41.0.0 in /opt/conda/lib/python3.10/site-packages (from tensorboard==2.9.1->-r requirements.txt (line 7)) (70.0.0)\r\n",
      "Collecting tensorboard-data-server<0.7.0,>=0.6.0 (from tensorboard==2.9.1->-r requirements.txt (line 7))\r\n",
      "  Downloading tensorboard_data_server-0.6.1-py3-none-manylinux2010_x86_64.whl.metadata (1.1 kB)\r\n",
      "Collecting tensorboard-plugin-wit>=1.6.0 (from tensorboard==2.9.1->-r requirements.txt (line 7))\r\n",
      "  Downloading tensorboard_plugin_wit-1.8.1-py3-none-any.whl.metadata (873 bytes)\r\n",
      "Requirement already satisfied: werkzeug>=1.0.1 in /opt/conda/lib/python3.10/site-packages (from tensorboard==2.9.1->-r requirements.txt (line 7)) (3.0.4)\r\n",
      "Requirement already satisfied: wheel>=0.26 in /opt/conda/lib/python3.10/site-packages (from tensorboard==2.9.1->-r requirements.txt (line 7)) (0.43.0)\r\n",
      "Requirement already satisfied: future>=0.17.1 in /opt/conda/lib/python3.10/site-packages (from pytorch_lightning==1.5->-r requirements.txt (line 8)) (1.0.0)\r\n",
      "Requirement already satisfied: tqdm>=4.41.0 in /opt/conda/lib/python3.10/site-packages (from pytorch_lightning==1.5->-r requirements.txt (line 8)) (4.66.4)\r\n",
      "Requirement already satisfied: PyYAML>=5.1 in /opt/conda/lib/python3.10/site-packages (from pytorch_lightning==1.5->-r requirements.txt (line 8)) (6.0.2)\r\n",
      "Requirement already satisfied: fsspec!=2021.06.0,>=2021.05.0 in /opt/conda/lib/python3.10/site-packages (from fsspec[http]!=2021.06.0,>=2021.05.0->pytorch_lightning==1.5->-r requirements.txt (line 8)) (2024.6.1)\r\n",
      "Requirement already satisfied: torchmetrics>=0.4.1 in /opt/conda/lib/python3.10/site-packages (from pytorch_lightning==1.5->-r requirements.txt (line 8)) (1.4.2)\r\n",
      "Collecting pyDeprecate==0.3.1 (from pytorch_lightning==1.5->-r requirements.txt (line 8))\r\n",
      "  Downloading pyDeprecate-0.3.1-py3-none-any.whl.metadata (10 kB)\r\n",
      "Requirement already satisfied: typing-extensions in /opt/conda/lib/python3.10/site-packages (from pytorch_lightning==1.5->-r requirements.txt (line 8)) (4.12.2)\r\n",
      "Collecting segments (from phonemizer==3.2.1->-r requirements.txt (line 10))\r\n",
      "  Downloading segments-2.2.1-py2.py3-none-any.whl.metadata (3.3 kB)\r\n",
      "Requirement already satisfied: attrs>=18.1 in /opt/conda/lib/python3.10/site-packages (from phonemizer==3.2.1->-r requirements.txt (line 10)) (23.2.0)\r\n",
      "Collecting dlinfo (from phonemizer==3.2.1->-r requirements.txt (line 10))\r\n",
      "  Downloading dlinfo-1.2.1-py3-none-any.whl.metadata (1.1 kB)\r\n",
      "Collecting python-Levenshtein==0.12.2 (from jiwer==2.3.0->-r requirements.txt (line 11))\r\n",
      "  Downloading python-Levenshtein-0.12.2.tar.gz (50 kB)\r\n",
      "\u001b[2K     \u001b[90m━━━━━━━━━━━━━━━━━━━━━━━━━━━━━━━━━━━━━━━━\u001b[0m \u001b[32m50.5/50.5 kB\u001b[0m \u001b[31m2.0 MB/s\u001b[0m eta \u001b[36m0:00:00\u001b[0m\r\n",
      "\u001b[?25h  Preparing metadata (setup.py) ... \u001b[?25l-\b \bdone\r\n",
      "\u001b[?25hRequirement already satisfied: aiohttp!=4.0.0a0,!=4.0.0a1 in /opt/conda/lib/python3.10/site-packages (from fsspec[http]!=2021.06.0,>=2021.05.0->pytorch_lightning==1.5->-r requirements.txt (line 8)) (3.9.5)\r\n",
      "Requirement already satisfied: cachetools<6.0,>=2.0.0 in /opt/conda/lib/python3.10/site-packages (from google-auth<3,>=1.6.3->tensorboard==2.9.1->-r requirements.txt (line 7)) (4.2.4)\r\n",
      "Requirement already satisfied: pyasn1-modules>=0.2.1 in /opt/conda/lib/python3.10/site-packages (from google-auth<3,>=1.6.3->tensorboard==2.9.1->-r requirements.txt (line 7)) (0.4.0)\r\n",
      "Requirement already satisfied: rsa<5,>=3.1.4 in /opt/conda/lib/python3.10/site-packages (from google-auth<3,>=1.6.3->tensorboard==2.9.1->-r requirements.txt (line 7)) (4.9)\r\n",
      "Requirement already satisfied: requests-oauthlib>=0.7.0 in /opt/conda/lib/python3.10/site-packages (from google-auth-oauthlib<0.5,>=0.4.1->tensorboard==2.9.1->-r requirements.txt (line 7)) (2.0.0)\r\n",
      "Requirement already satisfied: llvmlite<0.44,>=0.43.0dev0 in /opt/conda/lib/python3.10/site-packages (from numba>=0.45.1->librosa==0.9.2->-r requirements.txt (line 4)) (0.43.0)\r\n",
      "Requirement already satisfied: pyparsing!=3.0.5,>=2.0.2 in /opt/conda/lib/python3.10/site-packages (from packaging>=20.0->scikit_image==0.19.3->-r requirements.txt (line 1)) (3.1.2)\r\n",
      "Requirement already satisfied: platformdirs>=2.5.0 in /opt/conda/lib/python3.10/site-packages (from pooch>=1.0->librosa==0.9.2->-r requirements.txt (line 4)) (3.11.0)\r\n",
      "Requirement already satisfied: charset-normalizer<4,>=2 in /opt/conda/lib/python3.10/site-packages (from requests<3,>=2.21.0->tensorboard==2.9.1->-r requirements.txt (line 7)) (3.3.2)\r\n",
      "Requirement already satisfied: idna<4,>=2.5 in /opt/conda/lib/python3.10/site-packages (from requests<3,>=2.21.0->tensorboard==2.9.1->-r requirements.txt (line 7)) (3.7)\r\n",
      "Requirement already satisfied: urllib3<3,>=1.21.1 in /opt/conda/lib/python3.10/site-packages (from requests<3,>=2.21.0->tensorboard==2.9.1->-r requirements.txt (line 7)) (1.26.18)\r\n",
      "Requirement already satisfied: certifi>=2017.4.17 in /opt/conda/lib/python3.10/site-packages (from requests<3,>=2.21.0->tensorboard==2.9.1->-r requirements.txt (line 7)) (2024.8.30)\r\n",
      "Requirement already satisfied: threadpoolctl>=2.0.0 in /opt/conda/lib/python3.10/site-packages (from scikit-learn>=0.19.1->librosa==0.9.2->-r requirements.txt (line 4)) (3.5.0)\r\n",
      "Requirement already satisfied: cffi>=1.0 in /opt/conda/lib/python3.10/site-packages (from soundfile>=0.10.2->librosa==0.9.2->-r requirements.txt (line 4)) (1.16.0)\r\n",
      "Requirement already satisfied: filelock in /opt/conda/lib/python3.10/site-packages (from torch>=1.8.1->kornia==0.6.6->-r requirements.txt (line 2)) (3.15.1)\r\n",
      "Requirement already satisfied: sympy in /opt/conda/lib/python3.10/site-packages (from torch>=1.8.1->kornia==0.6.6->-r requirements.txt (line 2)) (1.12)\r\n",
      "Requirement already satisfied: jinja2 in /opt/conda/lib/python3.10/site-packages (from torch>=1.8.1->kornia==0.6.6->-r requirements.txt (line 2)) (3.1.4)\r\n",
      "Requirement already satisfied: lightning-utilities>=0.8.0 in /opt/conda/lib/python3.10/site-packages (from torchmetrics>=0.4.1->pytorch_lightning==1.5->-r requirements.txt (line 8)) (0.11.7)\r\n",
      "Requirement already satisfied: MarkupSafe>=2.1.1 in /opt/conda/lib/python3.10/site-packages (from werkzeug>=1.0.1->tensorboard==2.9.1->-r requirements.txt (line 7)) (2.1.5)\r\n",
      "Collecting clldutils>=1.7.3 (from segments->phonemizer==3.2.1->-r requirements.txt (line 10))\r\n",
      "  Downloading clldutils-3.22.2-py2.py3-none-any.whl.metadata (3.0 kB)\r\n",
      "Collecting csvw>=1.5.6 (from segments->phonemizer==3.2.1->-r requirements.txt (line 10))\r\n",
      "  Downloading csvw-3.3.1-py2.py3-none-any.whl.metadata (10 kB)\r\n",
      "Requirement already satisfied: regex in /opt/conda/lib/python3.10/site-packages (from segments->phonemizer==3.2.1->-r requirements.txt (line 10)) (2024.5.15)\r\n",
      "Requirement already satisfied: aiosignal>=1.1.2 in /opt/conda/lib/python3.10/site-packages (from aiohttp!=4.0.0a0,!=4.0.0a1->fsspec[http]!=2021.06.0,>=2021.05.0->pytorch_lightning==1.5->-r requirements.txt (line 8)) (1.3.1)\r\n",
      "Requirement already satisfied: frozenlist>=1.1.1 in /opt/conda/lib/python3.10/site-packages (from aiohttp!=4.0.0a0,!=4.0.0a1->fsspec[http]!=2021.06.0,>=2021.05.0->pytorch_lightning==1.5->-r requirements.txt (line 8)) (1.4.1)\r\n",
      "Requirement already satisfied: multidict<7.0,>=4.5 in /opt/conda/lib/python3.10/site-packages (from aiohttp!=4.0.0a0,!=4.0.0a1->fsspec[http]!=2021.06.0,>=2021.05.0->pytorch_lightning==1.5->-r requirements.txt (line 8)) (6.0.5)\r\n",
      "Requirement already satisfied: yarl<2.0,>=1.0 in /opt/conda/lib/python3.10/site-packages (from aiohttp!=4.0.0a0,!=4.0.0a1->fsspec[http]!=2021.06.0,>=2021.05.0->pytorch_lightning==1.5->-r requirements.txt (line 8)) (1.9.4)\r\n",
      "Requirement already satisfied: async-timeout<5.0,>=4.0 in /opt/conda/lib/python3.10/site-packages (from aiohttp!=4.0.0a0,!=4.0.0a1->fsspec[http]!=2021.06.0,>=2021.05.0->pytorch_lightning==1.5->-r requirements.txt (line 8)) (4.0.3)\r\n",
      "Requirement already satisfied: pycparser in /opt/conda/lib/python3.10/site-packages (from cffi>=1.0->soundfile>=0.10.2->librosa==0.9.2->-r requirements.txt (line 4)) (2.22)\r\n",
      "Requirement already satisfied: python-dateutil in /opt/conda/lib/python3.10/site-packages (from clldutils>=1.7.3->segments->phonemizer==3.2.1->-r requirements.txt (line 10)) (2.9.0.post0)\r\n",
      "Requirement already satisfied: tabulate>=0.7.7 in /opt/conda/lib/python3.10/site-packages (from clldutils>=1.7.3->segments->phonemizer==3.2.1->-r requirements.txt (line 10)) (0.9.0)\r\n",
      "Requirement already satisfied: colorlog in /opt/conda/lib/python3.10/site-packages (from clldutils>=1.7.3->segments->phonemizer==3.2.1->-r requirements.txt (line 10)) (6.8.2)\r\n",
      "Collecting bibtexparser>=2.0.0b4 (from clldutils>=1.7.3->segments->phonemizer==3.2.1->-r requirements.txt (line 10))\r\n",
      "  Downloading bibtexparser-2.0.0b7-py3-none-any.whl.metadata (5.6 kB)\r\n",
      "Collecting pylatexenc (from clldutils>=1.7.3->segments->phonemizer==3.2.1->-r requirements.txt (line 10))\r\n",
      "  Downloading pylatexenc-2.10.tar.gz (162 kB)\r\n",
      "\u001b[2K     \u001b[90m━━━━━━━━━━━━━━━━━━━━━━━━━━━━━━━━━━━━━━━\u001b[0m \u001b[32m162.6/162.6 kB\u001b[0m \u001b[31m3.8 MB/s\u001b[0m eta \u001b[36m0:00:00\u001b[0m\r\n",
      "\u001b[?25h  Preparing metadata (setup.py) ... \u001b[?25l-\b \bdone\r\n",
      "\u001b[?25hRequirement already satisfied: lxml in /opt/conda/lib/python3.10/site-packages (from clldutils>=1.7.3->segments->phonemizer==3.2.1->-r requirements.txt (line 10)) (5.3.0)\r\n",
      "Requirement already satisfied: babel in /opt/conda/lib/python3.10/site-packages (from csvw>=1.5.6->segments->phonemizer==3.2.1->-r requirements.txt (line 10)) (2.15.0)\r\n",
      "Requirement already satisfied: colorama in /opt/conda/lib/python3.10/site-packages (from csvw>=1.5.6->segments->phonemizer==3.2.1->-r requirements.txt (line 10)) (0.4.6)\r\n",
      "Collecting isodate (from csvw>=1.5.6->segments->phonemizer==3.2.1->-r requirements.txt (line 10))\r\n",
      "  Downloading isodate-0.6.1-py2.py3-none-any.whl.metadata (9.6 kB)\r\n",
      "Requirement already satisfied: jsonschema in /opt/conda/lib/python3.10/site-packages (from csvw>=1.5.6->segments->phonemizer==3.2.1->-r requirements.txt (line 10)) (4.22.0)\r\n",
      "Collecting language-tags (from csvw>=1.5.6->segments->phonemizer==3.2.1->-r requirements.txt (line 10))\r\n",
      "  Downloading language_tags-1.2.0-py3-none-any.whl.metadata (2.1 kB)\r\n",
      "Collecting rdflib (from csvw>=1.5.6->segments->phonemizer==3.2.1->-r requirements.txt (line 10))\r\n",
      "  Downloading rdflib-7.0.0-py3-none-any.whl.metadata (11 kB)\r\n",
      "Collecting rfc3986<2 (from csvw>=1.5.6->segments->phonemizer==3.2.1->-r requirements.txt (line 10))\r\n",
      "  Downloading rfc3986-1.5.0-py2.py3-none-any.whl.metadata (6.5 kB)\r\n",
      "Requirement already satisfied: uritemplate>=3.0.0 in /opt/conda/lib/python3.10/site-packages (from csvw>=1.5.6->segments->phonemizer==3.2.1->-r requirements.txt (line 10)) (3.0.1)\r\n",
      "Requirement already satisfied: pyasn1<0.7.0,>=0.4.6 in /opt/conda/lib/python3.10/site-packages (from pyasn1-modules>=0.2.1->google-auth<3,>=1.6.3->tensorboard==2.9.1->-r requirements.txt (line 7)) (0.6.0)\r\n",
      "Requirement already satisfied: oauthlib>=3.0.0 in /opt/conda/lib/python3.10/site-packages (from requests-oauthlib>=0.7.0->google-auth-oauthlib<0.5,>=0.4.1->tensorboard==2.9.1->-r requirements.txt (line 7)) (3.2.2)\r\n",
      "Requirement already satisfied: mpmath>=0.19 in /opt/conda/lib/python3.10/site-packages (from sympy->torch>=1.8.1->kornia==0.6.6->-r requirements.txt (line 2)) (1.3.0)\r\n",
      "Requirement already satisfied: jsonschema-specifications>=2023.03.6 in /opt/conda/lib/python3.10/site-packages (from jsonschema->csvw>=1.5.6->segments->phonemizer==3.2.1->-r requirements.txt (line 10)) (2023.12.1)\r\n",
      "Requirement already satisfied: referencing>=0.28.4 in /opt/conda/lib/python3.10/site-packages (from jsonschema->csvw>=1.5.6->segments->phonemizer==3.2.1->-r requirements.txt (line 10)) (0.35.1)\r\n",
      "Requirement already satisfied: rpds-py>=0.7.1 in /opt/conda/lib/python3.10/site-packages (from jsonschema->csvw>=1.5.6->segments->phonemizer==3.2.1->-r requirements.txt (line 10)) (0.18.1)\r\n",
      "Downloading scikit_image-0.19.3-cp310-cp310-manylinux_2_17_x86_64.manylinux2014_x86_64.whl (13.9 MB)\r\n",
      "\u001b[2K   \u001b[90m━━━━━━━━━━━━━━━━━━━━━━━━━━━━━━━━━━━━━━━━\u001b[0m \u001b[32m13.9/13.9 MB\u001b[0m \u001b[31m63.0 MB/s\u001b[0m eta \u001b[36m0:00:00\u001b[0m\r\n",
      "\u001b[?25hDownloading kornia-0.6.6-py2.py3-none-any.whl (517 kB)\r\n",
      "\u001b[2K   \u001b[90m━━━━━━━━━━━━━━━━━━━━━━━━━━━━━━━━━━━━━━━━\u001b[0m \u001b[32m517.4/517.4 kB\u001b[0m \u001b[31m21.7 MB/s\u001b[0m eta \u001b[36m0:00:00\u001b[0m\r\n",
      "\u001b[?25hDownloading librosa-0.9.2-py3-none-any.whl (214 kB)\r\n",
      "\u001b[2K   \u001b[90m━━━━━━━━━━━━━━━━━━━━━━━━━━━━━━━━━━━━━━━━\u001b[0m \u001b[32m214.3/214.3 kB\u001b[0m \u001b[31m10.7 MB/s\u001b[0m eta \u001b[36m0:00:00\u001b[0m\r\n",
      "\u001b[?25hDownloading av-9.2.0-cp310-cp310-manylinux_2_17_x86_64.manylinux2014_x86_64.whl (28.8 MB)\r\n",
      "\u001b[2K   \u001b[90m━━━━━━━━━━━━━━━━━━━━━━━━━━━━━━━━━━━━━━━━\u001b[0m \u001b[32m28.8/28.8 MB\u001b[0m \u001b[31m45.7 MB/s\u001b[0m eta \u001b[36m0:00:00\u001b[0m\r\n",
      "\u001b[?25hDownloading loguru-0.6.0-py3-none-any.whl (58 kB)\r\n",
      "\u001b[2K   \u001b[90m━━━━━━━━━━━━━━━━━━━━━━━━━━━━━━━━━━━━━━━━\u001b[0m \u001b[32m58.3/58.3 kB\u001b[0m \u001b[31m2.6 MB/s\u001b[0m eta \u001b[36m0:00:00\u001b[0m\r\n",
      "\u001b[?25hDownloading tensorboard-2.9.1-py3-none-any.whl (5.8 MB)\r\n",
      "\u001b[2K   \u001b[90m━━━━━━━━━━━━━━━━━━━━━━━━━━━━━━━━━━━━━━━━\u001b[0m \u001b[32m5.8/5.8 MB\u001b[0m \u001b[31m70.5 MB/s\u001b[0m eta \u001b[36m0:00:00\u001b[0m\r\n",
      "\u001b[?25hDownloading pytorch_lightning-1.5.0-py3-none-any.whl (1.0 MB)\r\n",
      "\u001b[2K   \u001b[90m━━━━━━━━━━━━━━━━━━━━━━━━━━━━━━━━━━━━━━━━\u001b[0m \u001b[32m1.0/1.0 MB\u001b[0m \u001b[31m36.0 MB/s\u001b[0m eta \u001b[36m0:00:00\u001b[0m\r\n",
      "\u001b[?25hDownloading opencv_python-4.6.0.66-cp36-abi3-manylinux_2_17_x86_64.manylinux2014_x86_64.whl (60.9 MB)\r\n",
      "\u001b[2K   \u001b[90m━━━━━━━━━━━━━━━━━━━━━━━━━━━━━━━━━━━━━━━━\u001b[0m \u001b[32m60.9/60.9 MB\u001b[0m \u001b[31m22.4 MB/s\u001b[0m eta \u001b[36m0:00:00\u001b[0m\r\n",
      "\u001b[?25hDownloading phonemizer-3.2.1-py3-none-any.whl (90 kB)\r\n",
      "\u001b[2K   \u001b[90m━━━━━━━━━━━━━━━━━━━━━━━━━━━━━━━━━━━━━━━━\u001b[0m \u001b[32m90.6/90.6 kB\u001b[0m \u001b[31m4.1 MB/s\u001b[0m eta \u001b[36m0:00:00\u001b[0m\r\n",
      "\u001b[?25hDownloading jiwer-2.3.0-py3-none-any.whl (15 kB)\r\n",
      "Downloading pyDeprecate-0.3.1-py3-none-any.whl (10 kB)\r\n",
      "Downloading google_auth_oauthlib-0.4.6-py2.py3-none-any.whl (18 kB)\r\n",
      "Downloading protobuf-3.19.6-cp310-cp310-manylinux_2_17_x86_64.manylinux2014_x86_64.whl (1.1 MB)\r\n",
      "\u001b[2K   \u001b[90m━━━━━━━━━━━━━━━━━━━━━━━━━━━━━━━━━━━━━━━━\u001b[0m \u001b[32m1.1/1.1 MB\u001b[0m \u001b[31m38.4 MB/s\u001b[0m eta \u001b[36m0:00:00\u001b[0m\r\n",
      "\u001b[?25hDownloading resampy-0.4.3-py3-none-any.whl (3.1 MB)\r\n",
      "\u001b[2K   \u001b[90m━━━━━━━━━━━━━━━━━━━━━━━━━━━━━━━━━━━━━━━━\u001b[0m \u001b[32m3.1/3.1 MB\u001b[0m \u001b[31m64.3 MB/s\u001b[0m eta \u001b[36m0:00:00\u001b[0m\r\n",
      "\u001b[?25hDownloading tensorboard_data_server-0.6.1-py3-none-manylinux2010_x86_64.whl (4.9 MB)\r\n",
      "\u001b[2K   \u001b[90m━━━━━━━━━━━━━━━━━━━━━━━━━━━━━━━━━━━━━━━━\u001b[0m \u001b[32m4.9/4.9 MB\u001b[0m \u001b[31m72.1 MB/s\u001b[0m eta \u001b[36m0:00:00\u001b[0m\r\n",
      "\u001b[?25hDownloading tensorboard_plugin_wit-1.8.1-py3-none-any.whl (781 kB)\r\n",
      "\u001b[2K   \u001b[90m━━━━━━━━━━━━━━━━━━━━━━━━━━━━━━━━━━━━━━━━\u001b[0m \u001b[32m781.3/781.3 kB\u001b[0m \u001b[31m29.2 MB/s\u001b[0m eta \u001b[36m0:00:00\u001b[0m\r\n",
      "\u001b[?25hDownloading dlinfo-1.2.1-py3-none-any.whl (3.6 kB)\r\n",
      "Downloading segments-2.2.1-py2.py3-none-any.whl (15 kB)\r\n",
      "Downloading clldutils-3.22.2-py2.py3-none-any.whl (1.7 MB)\r\n",
      "\u001b[2K   \u001b[90m━━━━━━━━━━━━━━━━━━━━━━━━━━━━━━━━━━━━━━━━\u001b[0m \u001b[32m1.7/1.7 MB\u001b[0m \u001b[31m46.0 MB/s\u001b[0m eta \u001b[36m0:00:00\u001b[0m\r\n",
      "\u001b[?25hDownloading csvw-3.3.1-py2.py3-none-any.whl (57 kB)\r\n",
      "\u001b[2K   \u001b[90m━━━━━━━━━━━━━━━━━━━━━━━━━━━━━━━━━━━━━━━━\u001b[0m \u001b[32m57.9/57.9 kB\u001b[0m \u001b[31m2.8 MB/s\u001b[0m eta \u001b[36m0:00:00\u001b[0m\r\n",
      "\u001b[?25hDownloading bibtexparser-2.0.0b7-py3-none-any.whl (38 kB)\r\n",
      "Downloading rfc3986-1.5.0-py2.py3-none-any.whl (31 kB)\r\n",
      "Downloading isodate-0.6.1-py2.py3-none-any.whl (41 kB)\r\n",
      "\u001b[2K   \u001b[90m━━━━━━━━━━━━━━━━━━━━━━━━━━━━━━━━━━━━━━━━\u001b[0m \u001b[32m41.7/41.7 kB\u001b[0m \u001b[31m2.0 MB/s\u001b[0m eta \u001b[36m0:00:00\u001b[0m\r\n",
      "\u001b[?25hDownloading language_tags-1.2.0-py3-none-any.whl (213 kB)\r\n",
      "\u001b[2K   \u001b[90m━━━━━━━━━━━━━━━━━━━━━━━━━━━━━━━━━━━━━━━━\u001b[0m \u001b[32m213.4/213.4 kB\u001b[0m \u001b[31m11.1 MB/s\u001b[0m eta \u001b[36m0:00:00\u001b[0m\r\n",
      "\u001b[?25hDownloading rdflib-7.0.0-py3-none-any.whl (531 kB)\r\n",
      "\u001b[2K   \u001b[90m━━━━━━━━━━━━━━━━━━━━━━━━━━━━━━━━━━━━━━━━\u001b[0m \u001b[32m531.9/531.9 kB\u001b[0m \u001b[31m24.5 MB/s\u001b[0m eta \u001b[36m0:00:00\u001b[0m\r\n",
      "\u001b[?25hBuilding wheels for collected packages: chumpy, python-Levenshtein, pylatexenc\r\n",
      "  Building wheel for chumpy (setup.py) ... \u001b[?25l-\b \b\\\b \bdone\r\n",
      "\u001b[?25h  Created wheel for chumpy: filename=chumpy-0.70-py3-none-any.whl size=58263 sha256=86d0a254137af7dbc9824f0fad2e3e67ca9320761a427d9d261ce897c864e975\r\n",
      "  Stored in directory: /root/.cache/pip/wheels/e0/c1/ef/29ba7be03653a29ef6f2c3e1956d6c4d8877f2b243af411db1\r\n",
      "  Building wheel for python-Levenshtein (setup.py) ... \u001b[?25l-\b \b\\\b \b|\b \b/\b \bdone\r\n",
      "\u001b[?25h  Created wheel for python-Levenshtein: filename=python_Levenshtein-0.12.2-cp310-cp310-linux_x86_64.whl size=79809 sha256=a64f870967ba5f1ca3e789f23e7780e4f6cc0106e0ce90aea91a89bd92019a4e\r\n",
      "  Stored in directory: /root/.cache/pip/wheels/7b/c3/05/60b4747cf52e0f6b6ee52022088a4de07d755016493e86373d\r\n",
      "  Building wheel for pylatexenc (setup.py) ... \u001b[?25l-\b \b\\\b \bdone\r\n",
      "\u001b[?25h  Created wheel for pylatexenc: filename=pylatexenc-2.10-py3-none-any.whl size=136816 sha256=e087fa567c6334454f84b38c1577e9ce7d20bb7474d812154b47ae9f05e117e1\r\n",
      "  Stored in directory: /root/.cache/pip/wheels/d3/31/8b/e09b0386afd80cfc556c00408c9aeea5c35c4d484a9c762fd5\r\n",
      "Successfully built chumpy python-Levenshtein pylatexenc\r\n",
      "Installing collected packages: tensorboard-plugin-wit, rfc3986, pylatexenc, language-tags, dlinfo, av, tensorboard-data-server, python-Levenshtein, pyDeprecate, protobuf, opencv-python, loguru, isodate, bibtexparser, scikit_image, resampy, rdflib, jiwer, clldutils, chumpy, librosa, kornia, google-auth-oauthlib, tensorboard, csvw, segments, pytorch_lightning, phonemizer\r\n",
      "  Attempting uninstall: tensorboard-data-server\r\n",
      "    Found existing installation: tensorboard-data-server 0.7.2\r\n",
      "    Uninstalling tensorboard-data-server-0.7.2:\r\n",
      "      Successfully uninstalled tensorboard-data-server-0.7.2\r\n",
      "  Attempting uninstall: protobuf\r\n",
      "    Found existing installation: protobuf 3.20.3\r\n",
      "    Uninstalling protobuf-3.20.3:\r\n",
      "      Successfully uninstalled protobuf-3.20.3\r\n",
      "  Attempting uninstall: opencv-python\r\n",
      "    Found existing installation: opencv-python 4.10.0.84\r\n",
      "    Uninstalling opencv-python-4.10.0.84:\r\n",
      "      Successfully uninstalled opencv-python-4.10.0.84\r\n",
      "  Attempting uninstall: scikit_image\r\n",
      "    Found existing installation: scikit-image 0.23.2\r\n",
      "    Uninstalling scikit-image-0.23.2:\r\n",
      "      Successfully uninstalled scikit-image-0.23.2\r\n",
      "  Attempting uninstall: librosa\r\n",
      "    Found existing installation: librosa 0.10.2.post1\r\n",
      "    Uninstalling librosa-0.10.2.post1:\r\n",
      "      Successfully uninstalled librosa-0.10.2.post1\r\n",
      "  Attempting uninstall: kornia\r\n",
      "    Found existing installation: kornia 0.7.3\r\n",
      "    Uninstalling kornia-0.7.3:\r\n",
      "      Successfully uninstalled kornia-0.7.3\r\n",
      "  Attempting uninstall: google-auth-oauthlib\r\n",
      "    Found existing installation: google-auth-oauthlib 1.2.0\r\n",
      "    Uninstalling google-auth-oauthlib-1.2.0:\r\n",
      "      Successfully uninstalled google-auth-oauthlib-1.2.0\r\n",
      "  Attempting uninstall: tensorboard\r\n",
      "    Found existing installation: tensorboard 2.16.2\r\n",
      "    Uninstalling tensorboard-2.16.2:\r\n",
      "      Successfully uninstalled tensorboard-2.16.2\r\n",
      "  Attempting uninstall: pytorch_lightning\r\n",
      "    Found existing installation: pytorch-lightning 2.4.0\r\n",
      "    Uninstalling pytorch-lightning-2.4.0:\r\n",
      "      Successfully uninstalled pytorch-lightning-2.4.0\r\n",
      "\u001b[31mERROR: pip's dependency resolver does not currently take into account all the packages that are installed. This behaviour is the source of the following dependency conflicts.\r\n",
      "albumentations 1.4.17 requires scikit-image>=0.21.0, but you have scikit-image 0.19.3 which is incompatible.\r\n",
      "apache-beam 2.46.0 requires cloudpickle~=2.2.1, but you have cloudpickle 3.0.0 which is incompatible.\r\n",
      "apache-beam 2.46.0 requires dill<0.3.2,>=0.3.1.1, but you have dill 0.3.8 which is incompatible.\r\n",
      "apache-beam 2.46.0 requires numpy<1.25.0,>=1.14.3, but you have numpy 1.26.4 which is incompatible.\r\n",
      "apache-beam 2.46.0 requires pyarrow<10.0.0,>=3.0.0, but you have pyarrow 17.0.0 which is incompatible.\r\n",
      "google-ai-generativelanguage 0.6.10 requires protobuf!=4.21.0,!=4.21.1,!=4.21.2,!=4.21.3,!=4.21.4,!=4.21.5,<6.0.0dev,>=3.20.2, but you have protobuf 3.19.6 which is incompatible.\r\n",
      "google-cloud-aiplatform 0.6.0a1 requires google-api-core[grpc]<2.0.0dev,>=1.22.2, but you have google-api-core 2.11.1 which is incompatible.\r\n",
      "google-cloud-automl 1.0.1 requires google-api-core[grpc]<2.0.0dev,>=1.14.0, but you have google-api-core 2.11.1 which is incompatible.\r\n",
      "google-cloud-language 2.14.0 requires protobuf!=4.21.0,!=4.21.1,!=4.21.2,!=4.21.3,!=4.21.4,!=4.21.5,<6.0.0dev,>=3.20.2, but you have protobuf 3.19.6 which is incompatible.\r\n",
      "google-cloud-spanner 3.47.0 requires protobuf!=3.20.0,!=3.20.1,!=4.21.0,!=4.21.1,!=4.21.2,!=4.21.3,!=4.21.4,!=4.21.5,<5.0.0dev,>=3.20.2, but you have protobuf 3.19.6 which is incompatible.\r\n",
      "google-cloud-videointelligence 2.13.5 requires protobuf!=4.21.0,!=4.21.1,!=4.21.2,!=4.21.3,!=4.21.4,!=4.21.5,<6.0.0dev,>=3.20.2, but you have protobuf 3.19.6 which is incompatible.\r\n",
      "kfp 2.5.0 requires google-cloud-storage<3,>=2.2.1, but you have google-cloud-storage 1.44.0 which is incompatible.\r\n",
      "onnx 1.17.0 requires protobuf>=3.20.2, but you have protobuf 3.19.6 which is incompatible.\r\n",
      "tensorboardx 2.6.2.2 requires protobuf>=3.20, but you have protobuf 3.19.6 which is incompatible.\r\n",
      "tensorflow 2.16.1 requires protobuf!=4.21.0,!=4.21.1,!=4.21.2,!=4.21.3,!=4.21.4,!=4.21.5,<5.0.0dev,>=3.20.3, but you have protobuf 3.19.6 which is incompatible.\r\n",
      "tensorflow 2.16.1 requires tensorboard<2.17,>=2.16, but you have tensorboard 2.9.1 which is incompatible.\r\n",
      "tensorflow-datasets 4.9.6 requires protobuf>=3.20, but you have protobuf 3.19.6 which is incompatible.\r\n",
      "tensorflow-serving-api 2.16.1 requires protobuf!=4.21.0,!=4.21.1,!=4.21.2,!=4.21.3,!=4.21.4,!=4.21.5,<5.0.0dev,>=3.20.3, but you have protobuf 3.19.6 which is incompatible.\u001b[0m\u001b[31m\r\n",
      "\u001b[0mSuccessfully installed av-9.2.0 bibtexparser-2.0.0b7 chumpy-0.70 clldutils-3.22.2 csvw-3.3.1 dlinfo-1.2.1 google-auth-oauthlib-0.4.6 isodate-0.6.1 jiwer-2.3.0 kornia-0.6.6 language-tags-1.2.0 librosa-0.9.2 loguru-0.6.0 opencv-python-4.6.0.66 phonemizer-3.2.1 protobuf-3.19.6 pyDeprecate-0.3.1 pylatexenc-2.10 python-Levenshtein-0.12.2 pytorch_lightning-1.5.0 rdflib-7.0.0 resampy-0.4.3 rfc3986-1.5.0 scikit_image-0.19.3 segments-2.2.1 tensorboard-2.9.1 tensorboard-data-server-0.6.1 tensorboard-plugin-wit-1.8.1\r\n",
      "Note: you may need to restart the kernel to use updated packages.\n"
     ]
    }
   ],
   "source": [
    "pip install -r requirements.txt"
   ]
  },
  {
   "cell_type": "code",
   "execution_count": 5,
   "id": "69e5a212",
   "metadata": {
    "execution": {
     "iopub.execute_input": "2024-10-05T00:23:27.363518Z",
     "iopub.status.busy": "2024-10-05T00:23:27.363019Z",
     "iopub.status.idle": "2024-10-05T00:23:27.370521Z",
     "shell.execute_reply": "2024-10-05T00:23:27.369452Z"
    },
    "papermill": {
     "duration": 0.044774,
     "end_time": "2024-10-05T00:23:27.373080",
     "exception": false,
     "start_time": "2024-10-05T00:23:27.328306",
     "status": "completed"
    },
    "tags": []
   },
   "outputs": [
    {
     "name": "stdout",
     "output_type": "stream",
     "text": [
      "/kaggle/working/spectre/external/face_alignment\n"
     ]
    }
   ],
   "source": [
    "cd /kaggle/working/spectre/external/face_alignment\n"
   ]
  },
  {
   "cell_type": "code",
   "execution_count": 6,
   "id": "ae1a654b",
   "metadata": {
    "execution": {
     "iopub.execute_input": "2024-10-05T00:23:27.440059Z",
     "iopub.status.busy": "2024-10-05T00:23:27.439662Z",
     "iopub.status.idle": "2024-10-05T00:23:41.529320Z",
     "shell.execute_reply": "2024-10-05T00:23:41.527610Z"
    },
    "papermill": {
     "duration": 14.126479,
     "end_time": "2024-10-05T00:23:41.532315",
     "exception": false,
     "start_time": "2024-10-05T00:23:27.405836",
     "status": "completed"
    },
    "tags": []
   },
   "outputs": [
    {
     "name": "stdout",
     "output_type": "stream",
     "text": [
      "Requirement already satisfied: numpy>=1.16.0 in /opt/conda/lib/python3.10/site-packages (from -r requirements.txt (line 1)) (1.26.4)\r\n",
      "Requirement already satisfied: torch>=1.1.0 in /opt/conda/lib/python3.10/site-packages (from -r requirements.txt (line 2)) (2.4.0+cpu)\r\n",
      "Requirement already satisfied: opencv-python>=3.4.2 in /opt/conda/lib/python3.10/site-packages (from -r requirements.txt (line 3)) (4.6.0.66)\r\n",
      "Requirement already satisfied: filelock in /opt/conda/lib/python3.10/site-packages (from torch>=1.1.0->-r requirements.txt (line 2)) (3.15.1)\r\n",
      "Requirement already satisfied: typing-extensions>=4.8.0 in /opt/conda/lib/python3.10/site-packages (from torch>=1.1.0->-r requirements.txt (line 2)) (4.12.2)\r\n",
      "Requirement already satisfied: sympy in /opt/conda/lib/python3.10/site-packages (from torch>=1.1.0->-r requirements.txt (line 2)) (1.12)\r\n",
      "Requirement already satisfied: networkx in /opt/conda/lib/python3.10/site-packages (from torch>=1.1.0->-r requirements.txt (line 2)) (3.3)\r\n",
      "Requirement already satisfied: jinja2 in /opt/conda/lib/python3.10/site-packages (from torch>=1.1.0->-r requirements.txt (line 2)) (3.1.4)\r\n",
      "Requirement already satisfied: fsspec in /opt/conda/lib/python3.10/site-packages (from torch>=1.1.0->-r requirements.txt (line 2)) (2024.6.1)\r\n",
      "Requirement already satisfied: MarkupSafe>=2.0 in /opt/conda/lib/python3.10/site-packages (from jinja2->torch>=1.1.0->-r requirements.txt (line 2)) (2.1.5)\r\n",
      "Requirement already satisfied: mpmath>=0.19 in /opt/conda/lib/python3.10/site-packages (from sympy->torch>=1.1.0->-r requirements.txt (line 2)) (1.3.0)\r\n",
      "Note: you may need to restart the kernel to use updated packages.\n"
     ]
    }
   ],
   "source": [
    "pip install -r requirements.txt"
   ]
  },
  {
   "cell_type": "code",
   "execution_count": 7,
   "id": "79d8b3c7",
   "metadata": {
    "execution": {
     "iopub.execute_input": "2024-10-05T00:23:41.602386Z",
     "iopub.status.busy": "2024-10-05T00:23:41.601934Z",
     "iopub.status.idle": "2024-10-05T00:23:41.609725Z",
     "shell.execute_reply": "2024-10-05T00:23:41.608433Z"
    },
    "papermill": {
     "duration": 0.044743,
     "end_time": "2024-10-05T00:23:41.612033",
     "exception": false,
     "start_time": "2024-10-05T00:23:41.567290",
     "status": "completed"
    },
    "tags": []
   },
   "outputs": [
    {
     "name": "stdout",
     "output_type": "stream",
     "text": [
      "/kaggle/working/spectre/external/face_detection\n"
     ]
    }
   ],
   "source": [
    "cd /kaggle/working/spectre/external/face_detection"
   ]
  },
  {
   "cell_type": "code",
   "execution_count": 8,
   "id": "43223484",
   "metadata": {
    "execution": {
     "iopub.execute_input": "2024-10-05T00:23:41.681278Z",
     "iopub.status.busy": "2024-10-05T00:23:41.680822Z",
     "iopub.status.idle": "2024-10-05T00:23:42.849642Z",
     "shell.execute_reply": "2024-10-05T00:23:42.848142Z"
    },
    "papermill": {
     "duration": 1.206552,
     "end_time": "2024-10-05T00:23:42.852592",
     "exception": false,
     "start_time": "2024-10-05T00:23:41.646040",
     "status": "completed"
    },
    "tags": []
   },
   "outputs": [],
   "source": [
    "!git lfs pull"
   ]
  },
  {
   "cell_type": "code",
   "execution_count": 9,
   "id": "4d4e367d",
   "metadata": {
    "execution": {
     "iopub.execute_input": "2024-10-05T00:23:42.922309Z",
     "iopub.status.busy": "2024-10-05T00:23:42.921798Z",
     "iopub.status.idle": "2024-10-05T00:23:57.206846Z",
     "shell.execute_reply": "2024-10-05T00:23:57.205370Z"
    },
    "papermill": {
     "duration": 14.322896,
     "end_time": "2024-10-05T00:23:57.209703",
     "exception": false,
     "start_time": "2024-10-05T00:23:42.886807",
     "status": "completed"
    },
    "tags": []
   },
   "outputs": [
    {
     "name": "stdout",
     "output_type": "stream",
     "text": [
      "Requirement already satisfied: numpy>=1.16.0 in /opt/conda/lib/python3.10/site-packages (from -r requirements.txt (line 1)) (1.26.4)\r\n",
      "Requirement already satisfied: scipy>=1.1.0 in /opt/conda/lib/python3.10/site-packages (from -r requirements.txt (line 2)) (1.14.1)\r\n",
      "Requirement already satisfied: torch>=1.1.0 in /opt/conda/lib/python3.10/site-packages (from -r requirements.txt (line 3)) (2.4.0+cpu)\r\n",
      "Requirement already satisfied: torchvision>=0.3.0 in /opt/conda/lib/python3.10/site-packages (from -r requirements.txt (line 4)) (0.19.0+cpu)\r\n",
      "Requirement already satisfied: opencv-python>=3.4.2 in /opt/conda/lib/python3.10/site-packages (from -r requirements.txt (line 5)) (4.6.0.66)\r\n",
      "Requirement already satisfied: filelock in /opt/conda/lib/python3.10/site-packages (from torch>=1.1.0->-r requirements.txt (line 3)) (3.15.1)\r\n",
      "Requirement already satisfied: typing-extensions>=4.8.0 in /opt/conda/lib/python3.10/site-packages (from torch>=1.1.0->-r requirements.txt (line 3)) (4.12.2)\r\n",
      "Requirement already satisfied: sympy in /opt/conda/lib/python3.10/site-packages (from torch>=1.1.0->-r requirements.txt (line 3)) (1.12)\r\n",
      "Requirement already satisfied: networkx in /opt/conda/lib/python3.10/site-packages (from torch>=1.1.0->-r requirements.txt (line 3)) (3.3)\r\n",
      "Requirement already satisfied: jinja2 in /opt/conda/lib/python3.10/site-packages (from torch>=1.1.0->-r requirements.txt (line 3)) (3.1.4)\r\n",
      "Requirement already satisfied: fsspec in /opt/conda/lib/python3.10/site-packages (from torch>=1.1.0->-r requirements.txt (line 3)) (2024.6.1)\r\n",
      "Requirement already satisfied: pillow!=8.3.*,>=5.3.0 in /opt/conda/lib/python3.10/site-packages (from torchvision>=0.3.0->-r requirements.txt (line 4)) (10.3.0)\r\n",
      "Requirement already satisfied: MarkupSafe>=2.0 in /opt/conda/lib/python3.10/site-packages (from jinja2->torch>=1.1.0->-r requirements.txt (line 3)) (2.1.5)\r\n",
      "Requirement already satisfied: mpmath>=0.19 in /opt/conda/lib/python3.10/site-packages (from sympy->torch>=1.1.0->-r requirements.txt (line 3)) (1.3.0)\r\n",
      "Note: you may need to restart the kernel to use updated packages.\n"
     ]
    }
   ],
   "source": [
    "pip install -r requirements.txt"
   ]
  },
  {
   "cell_type": "code",
   "execution_count": 10,
   "id": "5a2423a2",
   "metadata": {
    "execution": {
     "iopub.execute_input": "2024-10-05T00:23:57.284045Z",
     "iopub.status.busy": "2024-10-05T00:23:57.283129Z",
     "iopub.status.idle": "2024-10-05T00:24:20.759737Z",
     "shell.execute_reply": "2024-10-05T00:24:20.758394Z"
    },
    "papermill": {
     "duration": 23.519035,
     "end_time": "2024-10-05T00:24:20.762909",
     "exception": false,
     "start_time": "2024-10-05T00:23:57.243874",
     "status": "completed"
    },
    "tags": []
   },
   "outputs": [
    {
     "name": "stdout",
     "output_type": "stream",
     "text": [
      "Detected operating system as Ubuntu/focal.\r\n",
      "Checking for curl...\r\n",
      "Detected curl...\r\n",
      "Checking for gpg...\r\n",
      "Detected gpg...\r\n",
      "Detected apt version as 2.0.10\r\n",
      "Running apt-get update... done.\r\n",
      "Installing apt-transport-https... done.\r\n",
      "Installing /etc/apt/sources.list.d/github_git-lfs.list...done.\r\n",
      "Importing packagecloud gpg key... Packagecloud gpg key imported to /etc/apt/keyrings/github_git-lfs-archive-keyring.gpg\r\n",
      "done.\r\n",
      "Running apt-get update... done.\r\n",
      "\r\n",
      "The repository is setup! You can now install packages.\r\n",
      "\r\n",
      "\r\n",
      "\r\n",
      "The following packages will be upgraded:\r\n",
      "  git-lfs\r\n",
      "1 upgraded, 0 newly installed, 0 to remove and 46 not upgraded.\r\n",
      "Need to get 7932 kB of archives.\r\n",
      "After this operation, 5852 kB of additional disk space will be used.\r\n",
      "Get:1 https://packagecloud.io/github/git-lfs/ubuntu focal/main amd64 git-lfs amd64 3.5.1 [7932 kB]\r\n",
      "Fetched 7932 kB in 3s (2533 kB/s)\r\n",
      "(Reading database ... 115958 files and directories currently installed.)\r\n",
      "Preparing to unpack .../git-lfs_3.5.1_amd64.deb ...\r\n",
      "Unpacking git-lfs (3.5.1) over (2.9.2-1) ...\r\n",
      "Setting up git-lfs (3.5.1) ...\r\n",
      "Git LFS initialized.\r\n",
      "Processing triggers for man-db (2.9.1-1) ...\r\n"
     ]
    }
   ],
   "source": [
    "!curl -s https://packagecloud.io/install/repositories/github/git-lfs/script.deb.sh | sudo bash\n",
    "!sudo apt-get install git-lfs\n"
   ]
  },
  {
   "cell_type": "code",
   "execution_count": 11,
   "id": "4f5e5ca2",
   "metadata": {
    "execution": {
     "iopub.execute_input": "2024-10-05T00:24:20.871339Z",
     "iopub.status.busy": "2024-10-05T00:24:20.870868Z",
     "iopub.status.idle": "2024-10-05T00:24:36.775321Z",
     "shell.execute_reply": "2024-10-05T00:24:36.774054Z"
    },
    "papermill": {
     "duration": 15.963289,
     "end_time": "2024-10-05T00:24:36.778222",
     "exception": false,
     "start_time": "2024-10-05T00:24:20.814933",
     "status": "completed"
    },
    "tags": []
   },
   "outputs": [
    {
     "name": "stdout",
     "output_type": "stream",
     "text": [
      "Collecting gdown\r\n",
      "  Downloading gdown-5.2.0-py3-none-any.whl.metadata (5.8 kB)\r\n",
      "Requirement already satisfied: beautifulsoup4 in /opt/conda/lib/python3.10/site-packages (from gdown) (4.12.3)\r\n",
      "Requirement already satisfied: filelock in /opt/conda/lib/python3.10/site-packages (from gdown) (3.15.1)\r\n",
      "Requirement already satisfied: requests[socks] in /opt/conda/lib/python3.10/site-packages (from gdown) (2.32.3)\r\n",
      "Requirement already satisfied: tqdm in /opt/conda/lib/python3.10/site-packages (from gdown) (4.66.4)\r\n",
      "Requirement already satisfied: soupsieve>1.2 in /opt/conda/lib/python3.10/site-packages (from beautifulsoup4->gdown) (2.5)\r\n",
      "Requirement already satisfied: charset-normalizer<4,>=2 in /opt/conda/lib/python3.10/site-packages (from requests[socks]->gdown) (3.3.2)\r\n",
      "Requirement already satisfied: idna<4,>=2.5 in /opt/conda/lib/python3.10/site-packages (from requests[socks]->gdown) (3.7)\r\n",
      "Requirement already satisfied: urllib3<3,>=1.21.1 in /opt/conda/lib/python3.10/site-packages (from requests[socks]->gdown) (1.26.18)\r\n",
      "Requirement already satisfied: certifi>=2017.4.17 in /opt/conda/lib/python3.10/site-packages (from requests[socks]->gdown) (2024.8.30)\r\n",
      "Requirement already satisfied: PySocks!=1.5.7,>=1.5.6 in /opt/conda/lib/python3.10/site-packages (from requests[socks]->gdown) (1.7.1)\r\n",
      "Downloading gdown-5.2.0-py3-none-any.whl (18 kB)\r\n",
      "Installing collected packages: gdown\r\n",
      "Successfully installed gdown-5.2.0\r\n",
      "/kaggle/working/spectre/external/face_detection\r\n"
     ]
    }
   ],
   "source": [
    "\n",
    "!pip install gdown\n",
    "!pwd"
   ]
  },
  {
   "cell_type": "code",
   "execution_count": 12,
   "id": "52d3fedd",
   "metadata": {
    "execution": {
     "iopub.execute_input": "2024-10-05T00:24:36.858437Z",
     "iopub.status.busy": "2024-10-05T00:24:36.857936Z",
     "iopub.status.idle": "2024-10-05T00:24:36.866025Z",
     "shell.execute_reply": "2024-10-05T00:24:36.864940Z"
    },
    "papermill": {
     "duration": 0.050803,
     "end_time": "2024-10-05T00:24:36.868442",
     "exception": false,
     "start_time": "2024-10-05T00:24:36.817639",
     "status": "completed"
    },
    "tags": []
   },
   "outputs": [
    {
     "name": "stdout",
     "output_type": "stream",
     "text": [
      "/kaggle/working/spectre/external\n"
     ]
    }
   ],
   "source": [
    "cd ../"
   ]
  },
  {
   "cell_type": "code",
   "execution_count": 13,
   "id": "ba5761ef",
   "metadata": {
    "execution": {
     "iopub.execute_input": "2024-10-05T00:24:36.953352Z",
     "iopub.status.busy": "2024-10-05T00:24:36.952921Z",
     "iopub.status.idle": "2024-10-05T00:24:38.105693Z",
     "shell.execute_reply": "2024-10-05T00:24:38.104319Z"
    },
    "papermill": {
     "duration": 1.198311,
     "end_time": "2024-10-05T00:24:38.108654",
     "exception": false,
     "start_time": "2024-10-05T00:24:36.910343",
     "status": "completed"
    },
    "tags": []
   },
   "outputs": [
    {
     "name": "stdout",
     "output_type": "stream",
     "text": [
      "total 24\r\n",
      "drwxr-xr-x  6 root root 4096 Oct  5 00:22 \u001b[0m\u001b[01;34m.\u001b[0m/\r\n",
      "drwxr-xr-x 10 root root 4096 Oct  5 00:22 \u001b[01;34m..\u001b[0m/\r\n",
      "drwxr-xr-x 15 root root 4096 Oct  5 00:22 \u001b[01;34mVisual_Speech_Recognition_for_Multiple_Languages\u001b[0m/\r\n",
      "drwxr-xr-x  5 root root 4096 Oct  5 00:22 \u001b[01;34mav_hubert\u001b[0m/\r\n",
      "drwxr-xr-x  3 root root 4096 Oct  5 00:22 \u001b[01;34mface_alignment\u001b[0m/\r\n",
      "drwxr-xr-x  3 root root 4096 Oct  5 00:22 \u001b[01;34mface_detection\u001b[0m/\r\n"
     ]
    }
   ],
   "source": [
    "ls -la"
   ]
  },
  {
   "cell_type": "code",
   "execution_count": null,
   "id": "05f110a4",
   "metadata": {
    "papermill": {
     "duration": 0.041304,
     "end_time": "2024-10-05T00:24:38.189702",
     "exception": false,
     "start_time": "2024-10-05T00:24:38.148398",
     "status": "completed"
    },
    "tags": []
   },
   "outputs": [],
   "source": []
  }
 ],
 "metadata": {
  "kaggle": {
   "accelerator": "none",
   "dataSources": [
    {
     "isSourceIdPinned": true,
     "modelId": 131529,
     "modelInstanceId": 107182,
     "sourceId": 127302,
     "sourceType": "modelInstanceVersion"
    }
   ],
   "dockerImageVersionId": 30786,
   "isGpuEnabled": false,
   "isInternetEnabled": true,
   "language": "python",
   "sourceType": "notebook"
  },
  "kernelspec": {
   "display_name": "Python 3",
   "language": "python",
   "name": "python3"
  },
  "language_info": {
   "codemirror_mode": {
    "name": "ipython",
    "version": 3
   },
   "file_extension": ".py",
   "mimetype": "text/x-python",
   "name": "python",
   "nbconvert_exporter": "python",
   "pygments_lexer": "ipython3",
   "version": "3.10.14"
  },
  "papermill": {
   "default_parameters": {},
   "duration": 163.587646,
   "end_time": "2024-10-05T00:24:38.653554",
   "environment_variables": {},
   "exception": null,
   "input_path": "__notebook__.ipynb",
   "output_path": "__notebook__.ipynb",
   "parameters": {},
   "start_time": "2024-10-05T00:21:55.065908",
   "version": "2.6.0"
  }
 },
 "nbformat": 4,
 "nbformat_minor": 5
}
