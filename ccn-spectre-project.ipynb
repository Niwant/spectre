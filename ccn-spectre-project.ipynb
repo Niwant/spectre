{
 "cells": [
  {
   "cell_type": "raw",
   "id": "45d063ba",
   "metadata": {
    "_cell_guid": "b1076dfc-b9ad-4769-8c92-a6c4dae69d19",
    "_uuid": "8f2839f25d086af736a60e9eeb907d3b93b6e0e5",
    "papermill": {
     "duration": 0.006423,
     "end_time": "2024-10-05T00:25:17.681032",
     "exception": false,
     "start_time": "2024-10-05T00:25:17.674609",
     "status": "completed"
    },
    "tags": []
   },
   "source": [
    "# This Python 3 environment comes with many helpful analytics libraries installed\n",
    "# It is defined by the kaggle/python Docker image: https://github.com/kaggle/docker-python\n",
    "# For example, here's several helpful packages to load\n",
    "\n",
    "import numpy as np # linear algebra\n",
    "import pandas as pd # data processing, CSV file I/O (e.g. pd.read_csv)\n",
    "\n",
    "# Input data files are available in the read-only \"../input/\" directory\n",
    "# For example, running this (by clicking run or pressing Shift+Enter) will list all files under the input directory\n",
    "\n",
    "import os\n",
    "for dirname, _, filenames in os.walk('/kaggle/input'):\n",
    "    for filename in filenames:\n",
    "        print(os.path.join(dirname, filename))\n",
    "\n",
    "# You can write up to 20GB to the current directory (/kaggle/working/) that gets preserved as output when you create a version using \"Save & Run All\" \n",
    "# You can also write temporary files to /kaggle/temp/, but they won't be saved outside of the current session"
   ]
  },
  {
   "cell_type": "code",
   "execution_count": 1,
   "id": "6b4c88d4",
   "metadata": {
    "execution": {
     "iopub.execute_input": "2024-10-05T00:25:17.695515Z",
     "iopub.status.busy": "2024-10-05T00:25:17.694337Z",
     "iopub.status.idle": "2024-10-05T00:25:17.700405Z",
     "shell.execute_reply": "2024-10-05T00:25:17.699387Z"
    },
    "papermill": {
     "duration": 0.015585,
     "end_time": "2024-10-05T00:25:17.702773",
     "exception": false,
     "start_time": "2024-10-05T00:25:17.687188",
     "status": "completed"
    },
    "tags": []
   },
   "outputs": [],
   "source": [
    "# !git clone --recurse-submodules -j4 https://github.com/Niwant/spectre.git\n"
   ]
  },
  {
   "cell_type": "code",
   "execution_count": 2,
   "id": "e69faf8e",
   "metadata": {
    "execution": {
     "iopub.execute_input": "2024-10-05T00:25:17.715800Z",
     "iopub.status.busy": "2024-10-05T00:25:17.715410Z",
     "iopub.status.idle": "2024-10-05T00:25:17.720109Z",
     "shell.execute_reply": "2024-10-05T00:25:17.719111Z"
    },
    "papermill": {
     "duration": 0.014152,
     "end_time": "2024-10-05T00:25:17.722707",
     "exception": false,
     "start_time": "2024-10-05T00:25:17.708555",
     "status": "completed"
    },
    "tags": []
   },
   "outputs": [],
   "source": [
    "# cd /kaggle/working/spectre/"
   ]
  },
  {
   "cell_type": "code",
   "execution_count": 3,
   "id": "cf983634",
   "metadata": {
    "execution": {
     "iopub.execute_input": "2024-10-05T00:25:17.736030Z",
     "iopub.status.busy": "2024-10-05T00:25:17.735081Z",
     "iopub.status.idle": "2024-10-05T00:25:17.739834Z",
     "shell.execute_reply": "2024-10-05T00:25:17.738731Z"
    },
    "papermill": {
     "duration": 0.013978,
     "end_time": "2024-10-05T00:25:17.742341",
     "exception": false,
     "start_time": "2024-10-05T00:25:17.728363",
     "status": "completed"
    },
    "tags": []
   },
   "outputs": [],
   "source": [
    "# ls -la"
   ]
  },
  {
   "cell_type": "code",
   "execution_count": 4,
   "id": "6c343b50",
   "metadata": {
    "execution": {
     "iopub.execute_input": "2024-10-05T00:25:17.756736Z",
     "iopub.status.busy": "2024-10-05T00:25:17.756283Z",
     "iopub.status.idle": "2024-10-05T00:25:17.761523Z",
     "shell.execute_reply": "2024-10-05T00:25:17.760435Z"
    },
    "papermill": {
     "duration": 0.014556,
     "end_time": "2024-10-05T00:25:17.763956",
     "exception": false,
     "start_time": "2024-10-05T00:25:17.749400",
     "status": "completed"
    },
    "tags": []
   },
   "outputs": [],
   "source": [
    "# pip install -r requirements.txt"
   ]
  },
  {
   "cell_type": "code",
   "execution_count": 5,
   "id": "bcc3d473",
   "metadata": {
    "execution": {
     "iopub.execute_input": "2024-10-05T00:25:17.776703Z",
     "iopub.status.busy": "2024-10-05T00:25:17.776305Z",
     "iopub.status.idle": "2024-10-05T00:25:17.781327Z",
     "shell.execute_reply": "2024-10-05T00:25:17.780154Z"
    },
    "papermill": {
     "duration": 0.014246,
     "end_time": "2024-10-05T00:25:17.783750",
     "exception": false,
     "start_time": "2024-10-05T00:25:17.769504",
     "status": "completed"
    },
    "tags": []
   },
   "outputs": [],
   "source": [
    "# cd /kaggle/working/spectre/external/face_alignment\n"
   ]
  },
  {
   "cell_type": "code",
   "execution_count": 6,
   "id": "be41111e",
   "metadata": {
    "execution": {
     "iopub.execute_input": "2024-10-05T00:25:17.796605Z",
     "iopub.status.busy": "2024-10-05T00:25:17.796140Z",
     "iopub.status.idle": "2024-10-05T00:25:17.801751Z",
     "shell.execute_reply": "2024-10-05T00:25:17.800441Z"
    },
    "papermill": {
     "duration": 0.015126,
     "end_time": "2024-10-05T00:25:17.804427",
     "exception": false,
     "start_time": "2024-10-05T00:25:17.789301",
     "status": "completed"
    },
    "tags": []
   },
   "outputs": [],
   "source": [
    "# pip install -r requirements.txt"
   ]
  },
  {
   "cell_type": "code",
   "execution_count": 7,
   "id": "3e938fdf",
   "metadata": {
    "execution": {
     "iopub.execute_input": "2024-10-05T00:25:17.817857Z",
     "iopub.status.busy": "2024-10-05T00:25:17.816916Z",
     "iopub.status.idle": "2024-10-05T00:25:17.822017Z",
     "shell.execute_reply": "2024-10-05T00:25:17.820960Z"
    },
    "papermill": {
     "duration": 0.014271,
     "end_time": "2024-10-05T00:25:17.824412",
     "exception": false,
     "start_time": "2024-10-05T00:25:17.810141",
     "status": "completed"
    },
    "tags": []
   },
   "outputs": [],
   "source": [
    "# cd /kaggle/working/spectre/external/face_detection"
   ]
  },
  {
   "cell_type": "code",
   "execution_count": 8,
   "id": "49eca9c2",
   "metadata": {
    "execution": {
     "iopub.execute_input": "2024-10-05T00:25:17.837524Z",
     "iopub.status.busy": "2024-10-05T00:25:17.836973Z",
     "iopub.status.idle": "2024-10-05T00:25:17.842461Z",
     "shell.execute_reply": "2024-10-05T00:25:17.841293Z"
    },
    "papermill": {
     "duration": 0.014905,
     "end_time": "2024-10-05T00:25:17.845065",
     "exception": false,
     "start_time": "2024-10-05T00:25:17.830160",
     "status": "completed"
    },
    "tags": []
   },
   "outputs": [],
   "source": [
    "# !git lfs pull"
   ]
  },
  {
   "cell_type": "code",
   "execution_count": 9,
   "id": "61fa8bad",
   "metadata": {
    "execution": {
     "iopub.execute_input": "2024-10-05T00:25:17.858915Z",
     "iopub.status.busy": "2024-10-05T00:25:17.858517Z",
     "iopub.status.idle": "2024-10-05T00:25:17.863406Z",
     "shell.execute_reply": "2024-10-05T00:25:17.862238Z"
    },
    "papermill": {
     "duration": 0.015103,
     "end_time": "2024-10-05T00:25:17.865846",
     "exception": false,
     "start_time": "2024-10-05T00:25:17.850743",
     "status": "completed"
    },
    "tags": []
   },
   "outputs": [],
   "source": [
    "# pip install -r requirements.txt"
   ]
  },
  {
   "cell_type": "code",
   "execution_count": 10,
   "id": "f225fab7",
   "metadata": {
    "execution": {
     "iopub.execute_input": "2024-10-05T00:25:17.878615Z",
     "iopub.status.busy": "2024-10-05T00:25:17.878167Z",
     "iopub.status.idle": "2024-10-05T00:25:17.883661Z",
     "shell.execute_reply": "2024-10-05T00:25:17.882497Z"
    },
    "papermill": {
     "duration": 0.014841,
     "end_time": "2024-10-05T00:25:17.886255",
     "exception": false,
     "start_time": "2024-10-05T00:25:17.871414",
     "status": "completed"
    },
    "tags": []
   },
   "outputs": [],
   "source": [
    "# !curl -s https://packagecloud.io/install/repositories/github/git-lfs/script.deb.sh | sudo bash\n",
    "# !sudo apt-get install git-lfs\n"
   ]
  },
  {
   "cell_type": "code",
   "execution_count": 11,
   "id": "fef025c3",
   "metadata": {
    "execution": {
     "iopub.execute_input": "2024-10-05T00:25:17.898870Z",
     "iopub.status.busy": "2024-10-05T00:25:17.898485Z",
     "iopub.status.idle": "2024-10-05T00:25:17.903021Z",
     "shell.execute_reply": "2024-10-05T00:25:17.901942Z"
    },
    "papermill": {
     "duration": 0.013674,
     "end_time": "2024-10-05T00:25:17.905425",
     "exception": false,
     "start_time": "2024-10-05T00:25:17.891751",
     "status": "completed"
    },
    "tags": []
   },
   "outputs": [],
   "source": [
    "\n",
    "# !pip install gdown\n",
    "# !pwd"
   ]
  },
  {
   "cell_type": "code",
   "execution_count": 12,
   "id": "caf51e3a",
   "metadata": {
    "execution": {
     "iopub.execute_input": "2024-10-05T00:25:17.918269Z",
     "iopub.status.busy": "2024-10-05T00:25:17.917844Z",
     "iopub.status.idle": "2024-10-05T00:25:17.922740Z",
     "shell.execute_reply": "2024-10-05T00:25:17.921571Z"
    },
    "papermill": {
     "duration": 0.014238,
     "end_time": "2024-10-05T00:25:17.925173",
     "exception": false,
     "start_time": "2024-10-05T00:25:17.910935",
     "status": "completed"
    },
    "tags": []
   },
   "outputs": [],
   "source": [
    "# cd ../"
   ]
  },
  {
   "cell_type": "code",
   "execution_count": 13,
   "id": "074b4a32",
   "metadata": {
    "execution": {
     "iopub.execute_input": "2024-10-05T00:25:17.938377Z",
     "iopub.status.busy": "2024-10-05T00:25:17.937906Z",
     "iopub.status.idle": "2024-10-05T00:25:17.943244Z",
     "shell.execute_reply": "2024-10-05T00:25:17.941741Z"
    },
    "papermill": {
     "duration": 0.014919,
     "end_time": "2024-10-05T00:25:17.945739",
     "exception": false,
     "start_time": "2024-10-05T00:25:17.930820",
     "status": "completed"
    },
    "tags": []
   },
   "outputs": [],
   "source": [
    "# ls -la"
   ]
  },
  {
   "cell_type": "code",
   "execution_count": null,
   "id": "dbf0d3f6",
   "metadata": {
    "papermill": {
     "duration": 0.005266,
     "end_time": "2024-10-05T00:25:17.956653",
     "exception": false,
     "start_time": "2024-10-05T00:25:17.951387",
     "status": "completed"
    },
    "tags": []
   },
   "outputs": [],
   "source": []
  }
 ],
 "metadata": {
  "kaggle": {
   "accelerator": "none",
   "dataSources": [
    {
     "isSourceIdPinned": true,
     "modelId": 131529,
     "modelInstanceId": 107182,
     "sourceId": 127302,
     "sourceType": "modelInstanceVersion"
    }
   ],
   "dockerImageVersionId": 30786,
   "isGpuEnabled": false,
   "isInternetEnabled": true,
   "language": "python",
   "sourceType": "notebook"
  },
  "kernelspec": {
   "display_name": "Python 3",
   "language": "python",
   "name": "python3"
  },
  "language_info": {
   "codemirror_mode": {
    "name": "ipython",
    "version": 3
   },
   "file_extension": ".py",
   "mimetype": "text/x-python",
   "name": "python",
   "nbconvert_exporter": "python",
   "pygments_lexer": "ipython3",
   "version": "3.10.14"
  },
  "papermill": {
   "default_parameters": {},
   "duration": 3.751497,
   "end_time": "2024-10-05T00:25:18.383348",
   "environment_variables": {},
   "exception": null,
   "input_path": "__notebook__.ipynb",
   "output_path": "__notebook__.ipynb",
   "parameters": {},
   "start_time": "2024-10-05T00:25:14.631851",
   "version": "2.6.0"
  }
 },
 "nbformat": 4,
 "nbformat_minor": 5
}
