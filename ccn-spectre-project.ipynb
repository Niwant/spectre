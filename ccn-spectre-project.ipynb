{
 "cells": [
  {
   "cell_type": "raw",
   "id": "c7081e65",
   "metadata": {
    "_cell_guid": "b1076dfc-b9ad-4769-8c92-a6c4dae69d19",
    "_uuid": "8f2839f25d086af736a60e9eeb907d3b93b6e0e5",
    "papermill": {
     "duration": 0.00351,
     "end_time": "2024-10-04T22:30:06.390420",
     "exception": false,
     "start_time": "2024-10-04T22:30:06.386910",
     "status": "completed"
    },
    "tags": []
   },
   "source": [
    "# This Python 3 environment comes with many helpful analytics libraries installed\n",
    "# It is defined by the kaggle/python Docker image: https://github.com/kaggle/docker-python\n",
    "# For example, here's several helpful packages to load\n",
    "\n",
    "import numpy as np # linear algebra\n",
    "import pandas as pd # data processing, CSV file I/O (e.g. pd.read_csv)\n",
    "\n",
    "# Input data files are available in the read-only \"../input/\" directory\n",
    "# For example, running this (by clicking run or pressing Shift+Enter) will list all files under the input directory\n",
    "\n",
    "import os\n",
    "for dirname, _, filenames in os.walk('/kaggle/input'):\n",
    "    for filename in filenames:\n",
    "        print(os.path.join(dirname, filename))\n",
    "\n",
    "# You can write up to 20GB to the current directory (/kaggle/working/) that gets preserved as output when you create a version using \"Save & Run All\" \n",
    "# You can also write temporary files to /kaggle/temp/, but they won't be saved outside of the current session"
   ]
  },
  {
   "cell_type": "code",
   "execution_count": 1,
   "id": "c49c3603",
   "metadata": {
    "execution": {
     "iopub.execute_input": "2024-10-04T22:30:06.397964Z",
     "iopub.status.busy": "2024-10-04T22:30:06.397484Z",
     "iopub.status.idle": "2024-10-04T22:30:29.918725Z",
     "shell.execute_reply": "2024-10-04T22:30:29.917581Z"
    },
    "papermill": {
     "duration": 23.528008,
     "end_time": "2024-10-04T22:30:29.921408",
     "exception": false,
     "start_time": "2024-10-04T22:30:06.393400",
     "status": "completed"
    },
    "tags": []
   },
   "outputs": [
    {
     "name": "stdout",
     "output_type": "stream",
     "text": [
      "Cloning into 'spectre'...\r\n",
      "remote: Enumerating objects: 242, done.\u001b[K\r\n",
      "remote: Counting objects: 100% (242/242), done.\u001b[K\r\n",
      "remote: Compressing objects: 100% (175/175), done.\u001b[K\r\n",
      "remote: Total 242 (delta 120), reused 173 (delta 63), pack-reused 0 (from 0)\u001b[K\r\n",
      "Receiving objects: 100% (242/242), 17.44 MiB | 17.96 MiB/s, done.\r\n",
      "Resolving deltas: 100% (120/120), done.\r\n",
      "Submodule 'external/Visual_Speech_Recognition_for_Multiple_Languages' (https://github.com/mpc001/Visual_Speech_Recognition_for_Multiple_Languages) registered for path 'external/Visual_Speech_Recognition_for_Multiple_Languages'\r\n",
      "Submodule 'external/av_hubert' (https://github.com/facebookresearch/av_hubert) registered for path 'external/av_hubert'\r\n",
      "Submodule 'external/face_alignment' (https://github.com/hhj1897/face_alignment.git) registered for path 'external/face_alignment'\r\n",
      "Submodule 'external/face_detection' (https://github.com/hhj1897/face_detection) registered for path 'external/face_detection'\r\n",
      "Cloning into '/kaggle/working/spectre/external/Visual_Speech_Recognition_for_Multiple_Languages'...\r\n",
      "remote: Enumerating objects: 277, done.        \r\n",
      "remote: Counting objects: 100% (26/26), done.        \r\n",
      "remote: Compressing objects: 100% (14/14), done.        \r\n",
      "remote: Total 277 (delta 14), reused 12 (delta 12), pack-reused 251 (from 1)        \r\n",
      "Receiving objects: 100% (277/277), 69.76 MiB | 21.43 MiB/s, done.\r\n",
      "Resolving deltas: 100% (69/69), done.\r\n",
      "Cloning into '/kaggle/working/spectre/external/av_hubert'...\r\n",
      "remote: Enumerating objects: 149, done.        \r\n",
      "remote: Counting objects: 100% (38/38), done.        \r\n",
      "remote: Compressing objects: 100% (24/24), done.        \r\n",
      "remote: Total 149 (delta 18), reused 22 (delta 14), pack-reused 111 (from 1)        \r\n",
      "Receiving objects: 100% (149/149), 4.65 MiB | 6.82 MiB/s, done.\r\n",
      "Resolving deltas: 100% (64/64), done.\r\n",
      "Cloning into '/kaggle/working/spectre/external/face_alignment'...\r\n",
      "remote: Enumerating objects: 190, done.        \r\n",
      "remote: Counting objects: 100% (32/32), done.        \r\n",
      "remote: Compressing objects: 100% (6/6), done.        \r\n",
      "remote: Total 190 (delta 27), reused 27 (delta 26), pack-reused 158 (from 1)        \r\n",
      "Receiving objects: 100% (190/190), 213.82 MiB | 24.54 MiB/s, done.\r\n",
      "Resolving deltas: 100% (84/84), done.\r\n",
      "Cloning into '/kaggle/working/spectre/external/face_detection'...\r\n",
      "remote: Enumerating objects: 300, done.        \r\n",
      "remote: Counting objects: 100% (50/50), done.        \r\n",
      "remote: Compressing objects: 100% (11/11), done.        \r\n",
      "remote: Total 300 (delta 41), reused 39 (delta 39), pack-reused 250 (from 1)        \r\n",
      "Receiving objects: 100% (300/300), 81.19 MiB | 22.01 MiB/s, done.\r\n",
      "Resolving deltas: 100% (141/141), done.\r\n",
      "Submodule path 'external/Visual_Speech_Recognition_for_Multiple_Languages': checked out '53e940ee3d4bab5e5a69276ac0a7a68047c5ab8d'\r\n",
      "Submodule path 'external/av_hubert': checked out 'cd1fd24e71b18f5c1a7203aec6ce4479a61e7e67'\r\n",
      "Submodule 'fairseq' (https://github.com/pytorch/fairseq) registered for path 'external/av_hubert/fairseq'\r\n",
      "Cloning into '/kaggle/working/spectre/external/av_hubert/fairseq'...\r\n",
      "remote: Enumerating objects: 35379, done.        \r\n",
      "remote: Counting objects: 100% (42/42), done.        \r\n",
      "remote: Compressing objects: 100% (30/30), done.        \r\n",
      "remote: Total 35379 (delta 9), reused 33 (delta 9), pack-reused 35337 (from 1)        \r\n",
      "Receiving objects: 100% (35379/35379), 25.47 MiB | 25.64 MiB/s, done.\r\n",
      "Resolving deltas: 100% (25538/25538), done.\r\n",
      "Submodule path 'external/av_hubert/fairseq': checked out 'afc77bdf4bb51453ce76f1572ef2ee6ddcda8eeb'\r\n",
      "Submodule 'fairseq/model_parallel/megatron' (https://github.com/ngoyal2707/Megatron-LM) registered for path 'external/av_hubert/fairseq/fairseq/model_parallel/megatron'\r\n",
      "Cloning into '/kaggle/working/spectre/external/av_hubert/fairseq/fairseq/model_parallel/megatron'...\r\n",
      "remote: Enumerating objects: 8394, done.        \r\n",
      "remote: Total 8394 (delta 0), reused 0 (delta 0), pack-reused 8394 (from 1)        \r\n",
      "Receiving objects: 100% (8394/8394), 2.92 MiB | 17.28 MiB/s, done.\r\n",
      "Resolving deltas: 100% (6335/6335), done.\r\n",
      "remote: Enumerating objects: 8, done.\u001b[K\r\n",
      "remote: Counting objects: 100% (6/6), done.\u001b[K\r\n",
      "remote: Total 8 (delta 6), reused 6 (delta 6), pack-reused 2 (from 1)\u001b[K\r\n",
      "Unpacking objects: 100% (8/8), 1.85 KiB | 473.00 KiB/s, done.\r\n",
      "From https://github.com/ngoyal2707/Megatron-LM\r\n",
      " * branch            adb23324c222aad0aad89308e70302d996a5eaeb -> FETCH_HEAD\r\n",
      "Submodule path 'external/av_hubert/fairseq/fairseq/model_parallel/megatron': checked out 'adb23324c222aad0aad89308e70302d996a5eaeb'\r\n",
      "Submodule path 'external/face_alignment': checked out '9cf5494e443f26d567972f3f50f6212d65b76c01'\r\n",
      "Submodule path 'external/face_detection': checked out '71852f00b815f568f3b51f045a418ae84cbe162a'\r\n"
     ]
    }
   ],
   "source": [
    "!git clone --recurse-submodules -j4 https://github.com/Niwant/spectre.git\n"
   ]
  },
  {
   "cell_type": "code",
   "execution_count": 2,
   "id": "bad93fa9",
   "metadata": {
    "execution": {
     "iopub.execute_input": "2024-10-04T22:30:29.943735Z",
     "iopub.status.busy": "2024-10-04T22:30:29.943260Z",
     "iopub.status.idle": "2024-10-04T22:30:29.952015Z",
     "shell.execute_reply": "2024-10-04T22:30:29.950649Z"
    },
    "papermill": {
     "duration": 0.022693,
     "end_time": "2024-10-04T22:30:29.954422",
     "exception": false,
     "start_time": "2024-10-04T22:30:29.931729",
     "status": "completed"
    },
    "tags": []
   },
   "outputs": [
    {
     "name": "stdout",
     "output_type": "stream",
     "text": [
      "/kaggle/working/spectre\n"
     ]
    }
   ],
   "source": [
    "cd /kaggle/working/spectre/"
   ]
  },
  {
   "cell_type": "code",
   "execution_count": 3,
   "id": "62ba41c8",
   "metadata": {
    "execution": {
     "iopub.execute_input": "2024-10-04T22:30:29.975515Z",
     "iopub.status.busy": "2024-10-04T22:30:29.975087Z",
     "iopub.status.idle": "2024-10-04T22:30:31.031718Z",
     "shell.execute_reply": "2024-10-04T22:30:31.030298Z"
    },
    "papermill": {
     "duration": 1.070471,
     "end_time": "2024-10-04T22:30:31.034532",
     "exception": false,
     "start_time": "2024-10-04T22:30:29.964061",
     "status": "completed"
    },
    "tags": []
   },
   "outputs": [
    {
     "name": "stdout",
     "output_type": "stream",
     "text": [
      "total 1408\r\n",
      "drwxr-xr-x 10 root root    4096 Oct  4 22:30 \u001b[0m\u001b[01;34m.\u001b[0m/\r\n",
      "drwxr-xr-x  3 root root    4096 Oct  4 22:30 \u001b[01;34m..\u001b[0m/\r\n",
      "drwxr-xr-x  9 root root    4096 Oct  4 22:30 \u001b[01;34m.git\u001b[0m/\r\n",
      "-rw-r--r--  1 root root     669 Oct  4 22:30 .gitignore\r\n",
      "-rw-r--r--  1 root root     575 Oct  4 22:30 .gitmodules\r\n",
      "-rw-r--r--  1 root root   20849 Oct  4 22:30 LICENSE\r\n",
      "-rw-r--r--  1 root root    5850 Oct  4 22:30 README.md\r\n",
      "-rw-r--r--  1 root root       0 Oct  4 22:30 __init__.py\r\n",
      "-rw-r--r--  1 root root    6976 Oct  4 22:30 config.py\r\n",
      "drwxr-xr-x  2 root root    4096 Oct  4 22:30 \u001b[01;34mconfigs\u001b[0m/\r\n",
      "-rw-r--r--  1 root root 1321519 Oct  4 22:30 cover.png\r\n",
      "drwxr-xr-x  2 root root    4096 Oct  4 22:30 \u001b[01;34mdata\u001b[0m/\r\n",
      "drwxr-xr-x  2 root root    4096 Oct  4 22:30 \u001b[01;34mdatasets\u001b[0m/\r\n",
      "-rw-r--r--  1 root root    9817 Oct  4 22:30 demo.py\r\n",
      "drwxr-xr-x  6 root root    4096 Oct  4 22:30 \u001b[01;34mexternal\u001b[0m/\r\n",
      "-rw-r--r--  1 root root    1878 Oct  4 22:30 get_training_data.sh\r\n",
      "-rw-r--r--  1 root root    1172 Oct  4 22:30 main.py\r\n",
      "-rw-r--r--  1 root root    1025 Oct  4 22:30 quick_install.sh\r\n",
      "-rw-r--r--  1 root root     183 Oct  4 22:30 requirements.txt\r\n",
      "drwxr-xr-x  5 root root    4096 Oct  4 22:30 \u001b[01;34msamples\u001b[0m/\r\n",
      "drwxr-xr-x  4 root root    4096 Oct  4 22:30 \u001b[01;34msrc\u001b[0m/\r\n",
      "drwxr-xr-x  2 root root    4096 Oct  4 22:30 \u001b[01;34mutils\u001b[0m/\r\n"
     ]
    }
   ],
   "source": [
    "ls -la"
   ]
  },
  {
   "cell_type": "code",
   "execution_count": null,
   "id": "6b4186d6",
   "metadata": {
    "execution": {
     "iopub.execute_input": "2024-10-04T22:24:49.011727Z",
     "iopub.status.busy": "2024-10-04T22:24:49.011262Z",
     "iopub.status.idle": "2024-10-04T22:24:49.019297Z",
     "shell.execute_reply": "2024-10-04T22:24:49.018118Z",
     "shell.execute_reply.started": "2024-10-04T22:24:49.011682Z"
    },
    "papermill": {
     "duration": 0.009427,
     "end_time": "2024-10-04T22:30:31.054170",
     "exception": false,
     "start_time": "2024-10-04T22:30:31.044743",
     "status": "completed"
    },
    "tags": []
   },
   "outputs": [],
   "source": []
  },
  {
   "cell_type": "code",
   "execution_count": null,
   "id": "7cf32211",
   "metadata": {
    "execution": {
     "iopub.execute_input": "2024-10-04T22:25:05.582185Z",
     "iopub.status.busy": "2024-10-04T22:25:05.581717Z",
     "iopub.status.idle": "2024-10-04T22:25:06.990278Z",
     "shell.execute_reply": "2024-10-04T22:25:06.988831Z",
     "shell.execute_reply.started": "2024-10-04T22:25:05.582141Z"
    },
    "papermill": {
     "duration": 0.009509,
     "end_time": "2024-10-04T22:30:31.073398",
     "exception": false,
     "start_time": "2024-10-04T22:30:31.063889",
     "status": "completed"
    },
    "tags": []
   },
   "outputs": [],
   "source": []
  },
  {
   "cell_type": "code",
   "execution_count": null,
   "id": "3308a840",
   "metadata": {
    "papermill": {
     "duration": 0.010312,
     "end_time": "2024-10-04T22:30:31.093391",
     "exception": false,
     "start_time": "2024-10-04T22:30:31.083079",
     "status": "completed"
    },
    "tags": []
   },
   "outputs": [],
   "source": []
  }
 ],
 "metadata": {
  "kaggle": {
   "accelerator": "none",
   "dataSources": [],
   "dockerImageVersionId": 30786,
   "isGpuEnabled": false,
   "isInternetEnabled": true,
   "language": "python",
   "sourceType": "notebook"
  },
  "kernelspec": {
   "display_name": "Python 3",
   "language": "python",
   "name": "python3"
  },
  "language_info": {
   "codemirror_mode": {
    "name": "ipython",
    "version": 3
   },
   "file_extension": ".py",
   "mimetype": "text/x-python",
   "name": "python",
   "nbconvert_exporter": "python",
   "pygments_lexer": "ipython3",
   "version": "3.10.14"
  },
  "papermill": {
   "default_parameters": {},
   "duration": 28.012573,
   "end_time": "2024-10-04T22:30:31.524863",
   "environment_variables": {},
   "exception": null,
   "input_path": "__notebook__.ipynb",
   "output_path": "__notebook__.ipynb",
   "parameters": {},
   "start_time": "2024-10-04T22:30:03.512290",
   "version": "2.6.0"
  }
 },
 "nbformat": 4,
 "nbformat_minor": 5
}
